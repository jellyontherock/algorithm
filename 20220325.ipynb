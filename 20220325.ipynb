{
  "nbformat": 4,
  "nbformat_minor": 0,
  "metadata": {
    "colab": {
      "name": "20220325.ipynb",
      "provenance": [],
      "collapsed_sections": [],
      "authorship_tag": "ABX9TyMqEMcc2sJisq8Je/qABdSM",
      "include_colab_link": true
    },
    "kernelspec": {
      "name": "python3",
      "display_name": "Python 3"
    },
    "language_info": {
      "name": "python"
    }
  },
  "cells": [
    {
      "cell_type": "markdown",
      "metadata": {
        "id": "view-in-github",
        "colab_type": "text"
      },
      "source": [
        "<a href=\"https://colab.research.google.com/github/jellyontherock/algorithm/blob/master/20220325.ipynb\" target=\"_parent\"><img src=\"https://colab.research.google.com/assets/colab-badge.svg\" alt=\"Open In Colab\"/></a>"
      ]
    },
    {
      "cell_type": "code",
      "execution_count": null,
      "metadata": {
        "id": "Pp3I5uzr-s3c"
      },
      "outputs": [],
      "source": [
        "### SWEA 4828. [파이썬 S/W 문제해결 기본] 1일차 - min max\n",
        "\n",
        "'''\n",
        "for 문으로 range(int(input())) 만들고\n",
        "n 만들고\n",
        "n 개의 양수를 넣는 map 만들고\n",
        "그리고 \n",
        "#1 max min 차 넣기\n",
        "'''\n",
        "\n",
        "for i in range(int(input())):\n",
        "    n = int(input())\n",
        "    a = list(map(int, input().split()))\n",
        "    b = max(a) - min(a)\n",
        "    print(f'#{i+1} {b}')\n"
      ]
    },
    {
      "cell_type": "code",
      "source": [
        "### SWEA 4831. [파이썬 S/W 문제해결 기본] 1일차 - 전기버스\n",
        "\n",
        "'''\n",
        "이 문제는 좀 짜증.\n",
        "맨땅에 그림 그려도 귀찮은데\n",
        "귀찮.\n",
        "\n",
        "첫 줄에 노선 수 T -> for i in range(int(input()))\n",
        "K, N, M ( 한번 충전으로 최대한 이용할 수 있는 정류장 ,종점, 충전기가 설치된 개수)\n",
        "stop_num => m개의 정류장 번호\n",
        "\n",
        "'''\n",
        "\n",
        "```python\n",
        "for i in range(int(input())):\n",
        "  K, N, M = map(int, input().split())\n",
        "  stop_num = map(int, input().split())\n",
        "\n",
        "  total = 0\n",
        "  charge = 0\n",
        "\n",
        "  for j in range(N):\n",
        "    total += 1\n",
        "    if K == total:\n",
        "      charge += 1\n",
        "      K = K + K\n",
        "      if K < stop_num[j]:\n",
        "        print(f'#{i} 0')\n",
        "        break\n",
        "      else:\n",
        "        print(f'#{i} {j}')\n",
        "        break\n",
        "```\n",
        "\n",
        "'''\n",
        "완죠니 틀렸는데??? 아놔 어디가 문제여\n",
        "while 문으로 돌려야 한다는데... 나의 과거의 기록이...\n",
        "'''\n",
        "\n",
        "for T in range(1, int(input())+1):\n",
        "    K, N, M = map(int, input().split())\n",
        "    stop_num = list(map(int, input().split()))\n",
        "    total = 0 # 출발 붕붕붕~ 해서 한 정거장 갈 때마다 +1\n",
        "    charge = 0 # 충전 횟수\n",
        "    while total + K < N: # 지나간 흔적 + 충전해서 가는 거리 < 전체 정거장 수 (그니까 도착 전을 말함)\n",
        "        for j in range(K, 0, -1): # 충전된 상태에서 출발 , 0 될때까지 -1\n",
        "            if (j + total) in stop_num:\n",
        "                total += 1 # 정거장 도착\n",
        "                charge += 1 # 충전 횟수 추가\n",
        "                break\n",
        "            else:\n",
        "                charge = 0\n",
        "                break\n",
        "    print(\"#{} {}\".format(T, charge))\n",
        "\n",
        "\n",
        " # 예를 들어서, \n",
        "          '''\n",
        "          3\n",
        "          3 10 5\n",
        "          1 3 5 7 9 이면\n",
        "          K = 3, 2 ,1\n",
        "          j + total = 3 + 0 = 3 일때\n",
        "          total = 1, charge = 1\n",
        "          j + total = 2 + 1 = 3 = > 또 stop_num\n",
        "          total = 2 , charge = 2\n",
        "          j + total = 1 + 2 = 3 , 또 stop_num에 포함.\n",
        "          total = 3, charge = 3\n",
        "          '''\n",
        "\n",
        "\n",
        "      \n",
        "    \n",
        "    \n",
        "      \n",
        "\n"
      ],
      "metadata": {
        "id": "Myw_sT0iBc0S"
      },
      "execution_count": null,
      "outputs": []
    },
    {
      "cell_type": "code",
      "source": [
        "for T in range(1,int(input())+1):\n",
        "    K, N, M = list(map(int, input().split()))\n",
        "    stop_number = list(map(int, input().split()))\n",
        "    \n",
        "    bus_charge = turn = 0\n",
        "  \n",
        "    while turn + K < N:\n",
        "        for i in range(K,0,-1):\n",
        "            if (i + turn) in stop_number:\n",
        "                turn += i\n",
        "                bus_charge += 1\n",
        "                break\n",
        "        else:\n",
        "            bus_charge = 0\n",
        "            break\n",
        "\n",
        "    print(f\"#{T} {bus_charge}\")"
      ],
      "metadata": {
        "id": "GcQilaBeOLNw"
      },
      "execution_count": null,
      "outputs": []
    },
    {
      "cell_type": "code",
      "source": [
        "### SWEA 4834. [파이썬 S/W 문제해결 기본] 1일차 - 숫자 카드\n",
        "\n",
        "\n",
        "#내일 하자! 너무 졸리다!\n"
      ],
      "metadata": {
        "id": "-6y7CffMPnqn"
      },
      "execution_count": null,
      "outputs": []
    }
  ]
}