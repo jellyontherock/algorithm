{
  "nbformat": 4,
  "nbformat_minor": 0,
  "metadata": {
    "colab": {
      "name": "20220326.ipynb",
      "provenance": [],
      "collapsed_sections": [],
      "authorship_tag": "ABX9TyPlqru5/Smc1T6HPnIRrcM+",
      "include_colab_link": true
    },
    "kernelspec": {
      "name": "python3",
      "display_name": "Python 3"
    },
    "language_info": {
      "name": "python"
    }
  },
  "cells": [
    {
      "cell_type": "markdown",
      "metadata": {
        "id": "view-in-github",
        "colab_type": "text"
      },
      "source": [
        "<a href=\"https://colab.research.google.com/github/jellyontherock/algorithm/blob/master/20220326.ipynb\" target=\"_parent\"><img src=\"https://colab.research.google.com/assets/colab-badge.svg\" alt=\"Open In Colab\"/></a>"
      ]
    },
    {
      "cell_type": "code",
      "execution_count": null,
      "metadata": {
        "id": "IkTpMCyZHtYv"
      },
      "outputs": [],
      "source": [
        "### SWEA 4835. [파이썬 S/W 문제해결 기본] 1일차 - 구간합\n",
        "\n",
        "\n",
        "'''\n",
        "\n",
        "1. 1 <= T <= 50\n",
        "2. N, M (10<= N <= 100, 2<= M < N)\n",
        "3. 1 <= a <= 10000\n",
        "4. #T 이웃한 m개의 합이 가장 큰 경우 - 가장 작은 경우\n",
        "5. 그럼 구간합을 어떻게 구할 것인가?\n",
        "6. 예시 10 3 => 정수가 10개, 구간은 3개씩. \n",
        "7. 구간합은 현재, 다음, 다다음 값... 구간 m에 맞춰서...\n",
        "\n",
        "987\n",
        "876\n",
        "765\n",
        "654\n",
        "543\n",
        "432\n",
        "321\n",
        "7번... n-m\n",
        "\n",
        "'''\n",
        "for T in range(int(input())):\n",
        "    N, M = map(int, input().split())\n",
        "    a = list(map(int, input().split()))\n",
        "    lst = []\n",
        "\n",
        "    for num in range(N):\n",
        "        if (num + M) > N: # 10+3 > 10 등 이렇게 커지면 break\n",
        "            break\n",
        "        else:\n",
        "            lst.append(sum(a[num:num+M])) #합들을 list화 시킴\n",
        "\n",
        "    print(f\"#{T+1} {max(lst)-min(lst)}\") #max-min"
      ]
    },
    {
      "cell_type": "code",
      "source": [
        "box = []\n",
        "\n",
        "for i in range(10):\n",
        "    box.append([])\n",
        "    for j in range(10):\n",
        "        box[i].append(0)\n",
        "\n",
        "T = int(input())\n",
        "\n",
        "guyuk1 = []\n",
        "guyuk2 = []\n",
        "\n",
        "for y in range(1,T+1):\n",
        "    N = int(input())\n",
        "    for z in range(N):\n",
        "        r1, c1, r2, c2, color = list(map(int, input().split()))\n",
        "        if color == 1:\n",
        "          for i in range(c2, c1-1, -1): #2 2 4 4 1 일때 4, 3, 2이 범위가 된다.\n",
        "              for j in range(r2, r1-1, -1):\n",
        "                guyuk1.append([j,i])\n",
        "          for i in range(len(guyuk1)):\n",
        "              guyuk1[i] = str(guyuk1[i])\n",
        "\n",
        "        if color == 2:\n",
        "          for i in range(c2, c1-1, -1): #2 2 4 4 1 일때 4, 3, 2이 범위가 된다.\n",
        "              for j in range(r2, r1-1, -1):\n",
        "                guyuk2.append([j,i])\n",
        "          for i in range(len(guyuk2)):\n",
        "              guyuk2[i] = str(guyuk2[i])\n",
        "\n",
        "          lintersection = list(set(guyuk1) & set(guyuk2))\n",
        "          \n",
        "    print(f\"#{y} {len(lintersection)}\")\n"
      ],
      "metadata": {
        "colab": {
          "base_uri": "https://localhost:8080/"
        },
        "id": "bBfWmkakQC4Q",
        "outputId": "b0676d01-cb50-4f68-969f-9cceb85f1773"
      },
      "execution_count": 60,
      "outputs": [
        {
          "output_type": "stream",
          "name": "stdout",
          "text": [
            "3\n",
            "2\n",
            "2 2 4 4 1\n",
            "3 3 6 6 2\n",
            "#1 4\n",
            "3\n",
            "1 2 3 3 1\n",
            "3 6 6 8 1\n",
            "2 3 5 6 2\n",
            "#2 10\n",
            "3\n",
            "1 4 8 5 1\n",
            "1 8 3 9 1\n",
            "3 2 5 8 2\n",
            "#3 25\n"
          ]
        }
      ]
    },
    {
      "cell_type": "code",
      "source": [
        "### SWEA 4837. [파이썬 S/W 문제해결 기본] 2일차 - 부분집합의 합\n",
        "\n",
        "'''\n",
        "T 주어짐.\n",
        "부분집합 원소 N 와 부분집합의 합 K 여백을 두고 주어짐.\n",
        "A 는 1~12\n",
        "부분집합이 없는 경우 0, 부분집합 개수 출력\n",
        "'''\n",
        "\n",
        "for t in range(int(input())):\n",
        "    N, K = map(int, input().split())\n",
        "    A = [1, 2, 3, 4, 5, 6, 7, 8, 9, 10, 11, 12]\n",
        "    sub = 0\n",
        "\n",
        "\n",
        "    for j in range(1,13):\n",
        "        total = 0\n",
        "        for i in range(N):\n",
        "            total += j\n",
        "        if total == K:\n",
        "            sub += 1\n",
        "    print(f\"#{t+1} {sub}\")\n",
        "\n",
        "'''\n",
        "이것도 실패 ㅠㅠ 절반만 맞는걸로 뜬다... 아아ㅏ아아아ㅏ\n",
        "비트 연산자 쓰는 풀이들이 있던데 그것도 쉬운 로직은 아닌 것 같아서\n",
        "찾아봐야지...\n",
        "'''"
      ],
      "metadata": {
        "id": "LL7G0HP-eDqw"
      },
      "execution_count": null,
      "outputs": []
    },
    {
      "cell_type": "code",
      "source": [
        "### SWEA 4839. [파이썬 S/W 문제해결 기본] 2일차 - 이진탐색\n",
        "\n"
      ],
      "metadata": {
        "id": "H-DV92kNBuTp"
      },
      "execution_count": null,
      "outputs": []
    }
  ]
}