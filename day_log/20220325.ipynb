{
  "nbformat": 4,
  "nbformat_minor": 0,
  "metadata": {
    "colab": {
      "name": "20220325.ipynb",
      "provenance": [],
      "collapsed_sections": [],
      "include_colab_link": true
    },
    "kernelspec": {
      "name": "python3",
      "display_name": "Python 3"
    },
    "language_info": {
      "name": "python"
    }
  },
  "cells": [
    {
      "cell_type": "markdown",
      "metadata": {
        "id": "view-in-github",
        "colab_type": "text"
      },
      "source": [
        "<a href=\"https://colab.research.google.com/github/jellyontherock/algorithm/blob/master/20220325.ipynb\" target=\"_parent\"><img src=\"https://colab.research.google.com/assets/colab-badge.svg\" alt=\"Open In Colab\"/></a>"
      ]
    },
    {
      "cell_type": "code",
      "execution_count": null,
      "metadata": {
        "id": "Pp3I5uzr-s3c"
      },
      "outputs": [],
      "source": [
        "### SWEA 4828. [파이썬 S/W 문제해결 기본] 1일차 - min max\n",
        "\n",
        "'''\n",
        "for 문으로 range(int(input())) 만들고\n",
        "n 만들고\n",
        "n 개의 양수를 넣는 map 만들고\n",
        "그리고 \n",
        "#1 max min 차 넣기\n",
        "'''\n",
        "\n",
        "for i in range(int(input())):\n",
        "    n = int(input())\n",
        "    a = list(map(int, input().split()))\n",
        "    b = max(a) - min(a)\n",
        "    print(f'#{i+1} {b}')\n"
      ]
    },
    {
      "cell_type": "code",
      "source": [
        "### SWEA 4831. [파이썬 S/W 문제해결 기본] 1일차 - 전기버스\n",
        "\n",
        "'''\n",
        "이 문제는 좀 짜증.\n",
        "맨땅에 그림 그려도 귀찮은데\n",
        "귀찮.\n",
        "\n",
        "첫 줄에 노선 수 T -> for i in range(int(input()))\n",
        "K, N, M ( 한번 충전으로 최대한 이용할 수 있는 정류장 ,종점, 충전기가 설치된 개수)\n",
        "stop_num => m개의 정류장 번호\n",
        "\n",
        "'''\n",
        "\n",
        "```python\n",
        "for i in range(int(input())):\n",
        "  K, N, M = map(int, input().split())\n",
        "  stop_num = map(int, input().split())\n",
        "\n",
        "  total = 0\n",
        "  charge = 0\n",
        "\n",
        "  for j in range(N):\n",
        "    total += 1\n",
        "    if K == total:\n",
        "      charge += 1\n",
        "      K = K + K\n",
        "      if K < stop_num[j]:\n",
        "        print(f'#{i} 0')\n",
        "        break\n",
        "      else:\n",
        "        print(f'#{i} {j}')\n",
        "        break\n",
        "```\n",
        "\n",
        "'''\n",
        "완죠니 틀렸는데??? 아놔 어디가 문제여\n",
        "while 문으로 돌려야 한다는데... 나의 과거의 기록이...\n",
        "'''\n",
        "\n",
        "for T in range(1, int(input())+1):\n",
        "    K, N, M = map(int, input().split())\n",
        "    stop_num = list(map(int, input().split()))\n",
        "    total = 0 # 출발 붕붕붕~ 해서 한 정거장 갈 때마다 +1\n",
        "    charge = 0 # 충전 횟수\n",
        "    while total + K < N: # 지나간 흔적 + 충전해서 가는 거리 < 전체 정거장 수 (그니까 도착 전을 말함)\n",
        "        for j in range(K, 0, -1): # 충전된 상태에서 출발 , 0 될때까지 -1\n",
        "            if (j + total) in stop_num:\n",
        "                total += 1 # 정거장 도착\n",
        "                charge += 1 # 충전 횟수 추가\n",
        "                break\n",
        "            else:\n",
        "                charge = 0\n",
        "                break\n",
        "    print(\"#{} {}\".format(T, charge))\n",
        "\n",
        "\n",
        " # 예를 들어서, \n",
        "          '''\n",
        "          3\n",
        "          3 10 5\n",
        "          1 3 5 7 9 이면\n",
        "          K = 3, 2 ,1\n",
        "          j + total = 3 + 0 = 3 일때\n",
        "          total = 1, charge = 1\n",
        "          j + total = 2 + 1 = 3 = > 또 stop_num\n",
        "          total = 2 , charge = 2\n",
        "          j + total = 1 + 2 = 3 , 또 stop_num에 포함.\n",
        "          total = 3, charge = 3\n",
        "          '''\n",
        "\n",
        "\n",
        "      \n",
        "    \n",
        "    \n",
        "      \n",
        "\n"
      ],
      "metadata": {
        "id": "Myw_sT0iBc0S"
      },
      "execution_count": null,
      "outputs": []
    },
    {
      "cell_type": "code",
      "source": [
        "for T in range(1,int(input())+1):\n",
        "    K, N, M = list(map(int, input().split()))\n",
        "    stop_number = list(map(int, input().split()))\n",
        "    \n",
        "    bus_charge = turn = 0\n",
        "  \n",
        "    while turn + K < N:\n",
        "        for i in range(K,0,-1):\n",
        "            if (i + turn) in stop_number:\n",
        "                turn += i\n",
        "                bus_charge += 1\n",
        "                break\n",
        "        else:\n",
        "            bus_charge = 0\n",
        "            break\n",
        "\n",
        "    print(f\"#{T} {bus_charge}\")"
      ],
      "metadata": {
        "id": "GcQilaBeOLNw"
      },
      "execution_count": null,
      "outputs": []
    },
    {
      "cell_type": "code",
      "source": [
        "### SWEA 4834. [파이썬 S/W 문제해결 기본] 1일차 - 숫자 카드\n",
        "\n",
        "\n",
        "'''\n",
        "이 문제는 풀었었는데.\n",
        "일단 T 주어짐.\n",
        "그담에 N 카드 장 수.\n",
        "그담에 a 여백 없이. 그래서 split 해야할 듯.\n",
        "가장 많은 카드 수!와 장 수를 출력하기.\n",
        "일단 해보자.\n",
        "'''\n",
        "\n",
        "\n",
        "for T in range(int(input())):\n",
        "    N = int(input())\n",
        "    a = list(map(int, input()))\n",
        "    card = [0] * 10\n",
        "\n",
        "    for i in range(N):\n",
        "        card[a[i]] += 1\n",
        "\n",
        "    max_count = 0\n",
        "    max_card = 0\n",
        "  \n",
        "    for i in range(9, -1, -1):\n",
        "        if max_count < card[i]:\n",
        "            max_count = card[i]\n",
        "            max_card = i\n",
        "    print(f\"#{T+1} {max_card} {max_count}\") #1 9 2 나와야 함\n",
        "\n",
        "\n",
        "'''\n",
        "코드 설명을 해보자면,\n",
        "a 를 list() 해서 넣었다.\n",
        "\n",
        "예를 들어 49679 를 넣으면\n",
        "split() 하지않아도\n",
        "['4', '9', '6', '7', '9']라고 들어간다.\n",
        "그걸 int 화 시켜주는 것이 다음 for 문 내용이다.\n",
        "\n",
        "max_count = 0\n",
        "max_card = 0을 굳이 만들지 않아도\n",
        "쉬운 방법이 없지않을까 싶었는데 방법을 못찾았다.\n",
        "\n",
        "처음엔 딕셔너리 화도 시켜보고 이것저것 시도했는데\n",
        "쉽지않다... \n",
        "\n",
        "[0, 0, 0,... 0] 은 사실상 card[0] ~ card[9] 이므로\n",
        "\n",
        "다음 for 문의 range 범위는 9~0까지이다.\n",
        "(제시된 조건도 0~9까지의 숫자)\n",
        "\n",
        "만약 max_count(=0)이 card[9] 보다 작다면\n",
        "card[9]이 현재까지는 가장 큰 숫자가 된다.\n",
        "그래서 일단은 max_card = 9가 된다.\n",
        "\n",
        "하나하나 -1 해가며 가장 큰 숫자를 찾는 방식으로 볼 수 있다.\n",
        "\n",
        "'''\n"
      ],
      "metadata": {
        "id": "-6y7CffMPnqn",
        "colab": {
          "base_uri": "https://localhost:8080/"
        },
        "outputId": "030fd7eb-ba63-4f45-8b7b-fd72cb30c12e"
      },
      "execution_count": 39,
      "outputs": [
        {
          "output_type": "stream",
          "name": "stdout",
          "text": [
            "3\n",
            "5\n",
            "49679\n",
            "#1 9 2\n",
            "5\n",
            "08271\n",
            "#2 8 1\n",
            "10\n",
            "7797946543\n",
            "#3 9 2\n"
          ]
        }
      ]
    },
    {
      "cell_type": "code",
      "source": [
        "a = list(map(int, input()))\n",
        "a[1]"
      ],
      "metadata": {
        "colab": {
          "base_uri": "https://localhost:8080/"
        },
        "id": "ydUISTinYhz9",
        "outputId": "06cbb4bc-a816-42bd-a7d5-cbe526b44246"
      },
      "execution_count": 41,
      "outputs": [
        {
          "name": "stdout",
          "output_type": "stream",
          "text": [
            "56659\n"
          ]
        },
        {
          "output_type": "execute_result",
          "data": {
            "text/plain": [
              "6"
            ]
          },
          "metadata": {},
          "execution_count": 41
        }
      ]
    },
    {
      "cell_type": "code",
      "source": [
        ""
      ],
      "metadata": {
        "id": "xCd0VU9Wn3Ot"
      },
      "execution_count": null,
      "outputs": []
    }
  ]
}