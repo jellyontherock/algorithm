{
  "nbformat": 4,
  "nbformat_minor": 0,
  "metadata": {
    "colab": {
      "name": "20220403.ipynb",
      "provenance": [],
      "collapsed_sections": []
    },
    "kernelspec": {
      "name": "python3",
      "display_name": "Python 3"
    },
    "language_info": {
      "name": "python"
    },
    "accelerator": "GPU"
  },
  "cells": [
    {
      "cell_type": "code",
      "execution_count": null,
      "metadata": {
        "id": "k8FUx6bfypgo"
      },
      "outputs": [],
      "source": [
        "# 백준 1712번: 손익분기점\n",
        "# https://www.acmicpc.net/problem/1712\n"
      ]
    },
    {
      "cell_type": "code",
      "source": [
        "A, B, C = map(int, input().split())\n",
        "count = -1\n",
        "\n",
        "for i in range(1, 2100000001):\n",
        "     revenue = C * i\n",
        "     cost = A + (B * i)\n",
        "     if revenue < cost:\n",
        "        count = i + 1\n",
        "     if revenue >= cost:\n",
        "        count = i + 1\n",
        "        break\n",
        "print(count)\n",
        "    "
      ],
      "metadata": {
        "id": "Sui3wU6XzwS0"
      },
      "execution_count": null,
      "outputs": []
    },
    {
      "cell_type": "markdown",
      "source": [
        "런타임 에러.\n",
        "손익분기점을 넘기려면 조건이 뭘까?... 다른 조건."
      ],
      "metadata": {
        "id": "w25g0uW26GCG"
      }
    },
    {
      "cell_type": "code",
      "source": [
        "# https://ooyoung.tistory.com/80\n",
        "\n",
        "a,b,c = map(int,input().split())\n",
        "\n",
        "if b >= c:  # 가변비용이 노트북 가격보다 같거나 크면\n",
        "    print(-1)\n",
        "else:\n",
        "    print(a//(c-b)+1)"
      ],
      "metadata": {
        "id": "TeGu1Fze6M6E"
      },
      "execution_count": null,
      "outputs": []
    },
    {
      "cell_type": "code",
      "source": [
        "# 백준 2292번: 벌집\n",
        "# https://www.acmicpc.net/problem/2292\n",
        "\n"
      ],
      "metadata": {
        "id": "yWzD5NhFzCXD"
      },
      "execution_count": null,
      "outputs": []
    },
    {
      "cell_type": "code",
      "source": [
        "# https://ooyoung.tistory.com/82\n",
        "n = int(input())\n",
        "\n",
        "nums_pileup = 1  # 벌집의 개수, 1개부터 시작\n",
        "cnt = 1\n",
        "while n > nums_pileup :\n",
        "    nums_pileup += 6 * cnt  # 벌집이 6의 배수로 증가\n",
        "    cnt += 1  # 반복문을 반복하는 횟수\n",
        "print(cnt)"
      ],
      "metadata": {
        "id": "fDIHNJMvA38M"
      },
      "execution_count": null,
      "outputs": []
    },
    {
      "cell_type": "code",
      "source": [
        "# 백준 1193번: 분수찾기\n",
        "# https://www.acmicpc.net/problem/1193\n"
      ],
      "metadata": {
        "id": "dRS7CWoxzHlr"
      },
      "execution_count": null,
      "outputs": []
    },
    {
      "cell_type": "code",
      "source": [
        "N = int(input())"
      ],
      "metadata": {
        "id": "El0LB1jUCzFq"
      },
      "execution_count": null,
      "outputs": []
    },
    {
      "cell_type": "code",
      "source": [
        "# https://deokkk9.tistory.com/11\n",
        "X=int(input())\n",
        "\n",
        "line=1\n",
        "while X>line:\n",
        "    X-=line\n",
        "    line+=1\n",
        "    \n",
        "if line%2==0:\n",
        "    a=X\n",
        "    b=line-X+1\n",
        "else:\n",
        "    a=line-X+1\n",
        "    b=X\n",
        "    \n",
        "print(a, '/', b, sep='')"
      ],
      "metadata": {
        "id": "fM7GsbAvA9dM"
      },
      "execution_count": null,
      "outputs": []
    },
    {
      "cell_type": "code",
      "source": [
        "# 백준 2869번: 달팽이는 올라가고 싶다\n",
        "# https://www.acmicpc.net/problem/2869"
      ],
      "metadata": {
        "id": "_PuWtUF1zMw9"
      },
      "execution_count": null,
      "outputs": []
    },
    {
      "cell_type": "code",
      "source": [
        "A, B, V = map(int, input().split())\n",
        "high = 0\n",
        "count = 0\n",
        "\n",
        "for i in range(int(V/(A-B))):\n",
        "    high += A\n",
        "    count += 0.5\n",
        "    if high < V :\n",
        "        high -= B\n",
        "        count += 0.5\n",
        "    else:\n",
        "        print(round(count))\n",
        "        break"
      ],
      "metadata": {
        "id": "iDcN_rzNECbi"
      },
      "execution_count": null,
      "outputs": []
    },
    {
      "cell_type": "markdown",
      "source": [
        "시간 초과.\n"
      ],
      "metadata": {
        "id": "nfwIhLvAGtQY"
      }
    },
    {
      "cell_type": "code",
      "source": [
        "A, B, V = map(int, input().split())\n",
        "print(round(V / (A-B)))"
      ],
      "metadata": {
        "colab": {
          "base_uri": "https://localhost:8080/"
        },
        "id": "hOvcokaJGpFb",
        "outputId": "763e73c7-8ae9-4268-ffb9-a0384ecab836"
      },
      "execution_count": null,
      "outputs": [
        {
          "output_type": "stream",
          "name": "stdout",
          "text": [
            "5 1 6\n",
            "2\n"
          ]
        }
      ]
    },
    {
      "cell_type": "markdown",
      "source": [
        "그냥 해봄."
      ],
      "metadata": {
        "id": "HUT5XYTcHedi"
      }
    },
    {
      "cell_type": "code",
      "source": [
        "import math\n",
        "\n",
        "A, B, V = map(int, input().split())\n",
        "high = 0\n",
        "count = 0\n",
        "\n",
        "for i in range(int(V/(A-B))):\n",
        "    high += A\n",
        "    count += 0.5\n",
        "    if high < V :\n",
        "        high -= B\n",
        "        count += 0.5\n",
        "    else:\n",
        "        print(math.floor(count))\n",
        "        break\n"
      ],
      "metadata": {
        "id": "0UptTF1SHdki"
      },
      "execution_count": null,
      "outputs": []
    },
    {
      "cell_type": "code",
      "source": [
        "import math\n",
        "\n",
        "A, B, V = map(int, input().split())\n",
        "print(math.floor(V / (A-B)))"
      ],
      "metadata": {
        "colab": {
          "base_uri": "https://localhost:8080/"
        },
        "id": "5hmomi_AIWpW",
        "outputId": "3fe813dd-96e2-45b3-9060-32466811218b"
      },
      "execution_count": null,
      "outputs": [
        {
          "output_type": "stream",
          "name": "stdout",
          "text": [
            "100 99 1000000000\n",
            "1000000000\n"
          ]
        }
      ]
    },
    {
      "cell_type": "code",
      "source": [
        "# 출처 : https://god-gil.tistory.com/39\n",
        "\n",
        "A, B, V = map(int, input().split())\n",
        " \n",
        "high = V - A #남은 높이\n",
        "if high % (A-B) == 0: #나눠떨어지면, 나눗셈으로 계산이 된다\n",
        "    first = int(high/(A-B))\n",
        "else:\n",
        "    first = int(high/(A-B) + 1) #나눠떨어지지 않으면, 다음날 각이니까 +1\n",
        "print(first + 1) # 결국 아침만 계산해야함. 하루 다음 낮에 성공이면 1.5가 아니라 2임."
      ],
      "metadata": {
        "id": "bcz-T6swoORH"
      },
      "execution_count": null,
      "outputs": []
    },
    {
      "cell_type": "code",
      "source": [
        "# 백준 10250번: ACM 호텔\n",
        "# https://www.acmicpc.net/problem/10250\n"
      ],
      "metadata": {
        "id": "C-d4_p3YzX8A"
      },
      "execution_count": null,
      "outputs": []
    },
    {
      "cell_type": "code",
      "source": [
        "for t in range(int(input())):\n",
        "    H, W, N = map(int, input().split())\n",
        "    lst = []\n",
        "    lst += [[i, j] for i in range(1, H+1) for j in range(1, W+1)]\n",
        "    print(lst)\n",
        "    num = lst[N-1][0] * 100 + lst[N-1][1]\n",
        "    print(num)"
      ],
      "metadata": {
        "id": "6gNxAfjJkEj_"
      },
      "execution_count": null,
      "outputs": []
    },
    {
      "cell_type": "code",
      "source": [
        "for t in range(int(input())):\n",
        "    H, W, N = map(int, input().split())\n",
        "    lst = []\n",
        "    lst += [[i, j] for i in range(1, H+1) for j in range(1, W+1)]\n",
        "    num = lst[N-1][0] * 100 + lst[N-1][1]\n",
        "    print(num)"
      ],
      "metadata": {
        "colab": {
          "base_uri": "https://localhost:8080/"
        },
        "id": "V0ouusZumUfb",
        "outputId": "aa08409f-b718-4606-eb66-cb9b42100a92"
      },
      "execution_count": 3,
      "outputs": [
        {
          "output_type": "stream",
          "name": "stdout",
          "text": [
            "2\n",
            "6 12 10\n",
            "110\n",
            "30 50 72\n",
            "222\n"
          ]
        }
      ]
    },
    {
      "cell_type": "markdown",
      "source": [
        "순서가 101 201 301 401 501 이렇게 가야함.\n",
        "아래 코드에서 내가 원하는 순서로 잘 나옴."
      ],
      "metadata": {
        "id": "y46xgKW9mm7N"
      }
    },
    {
      "cell_type": "code",
      "source": [
        "for t in range(int(input())):\n",
        "    H, W, N = map(int, input().split())\n",
        "    lst = []\n",
        "    for w in range(1, W+1):\n",
        "        for h in range(1, H+1):\n",
        "            lst += [[h, w]] # list 대괄호로 묶어줌\n",
        "    print(lst)\n"
      ],
      "metadata": {
        "id": "06mNgOtbmmhR"
      },
      "execution_count": null,
      "outputs": []
    },
    {
      "cell_type": "code",
      "source": [
        "# 2\n",
        "#6 12 10\n",
        "# [[1, 1], [2, 1], [3, 1], [4, 1], [5, 1], [6, 1], [1, 2], [2, 2], [3, 2], [4, 2], [5, 2], [6, 2], [1, 3], [2, 3], [3, 3], 생략"
      ],
      "metadata": {
        "id": "c9PKSmnKnRGe"
      },
      "execution_count": null,
      "outputs": []
    },
    {
      "cell_type": "code",
      "source": [
        "# 정답\n",
        "for t in range(int(input())):\n",
        "    H, W, N = map(int, input().split())\n",
        "    lst = []\n",
        "    for w in range(1, W+1):\n",
        "        for h in range(1, H+1):\n",
        "            lst += [[h, w]] # list 대괄호로 묶어줌\n",
        "    num = lst[N-1][0] * 100 + lst[N-1][1]\n",
        "    print(num)"
      ],
      "metadata": {
        "colab": {
          "base_uri": "https://localhost:8080/"
        },
        "id": "jI5TN2RMml8I",
        "outputId": "814676a4-9b0c-414a-af61-0d3a4ecb3575"
      },
      "execution_count": 7,
      "outputs": [
        {
          "output_type": "stream",
          "name": "stdout",
          "text": [
            "2\n",
            "6 12 10\n",
            "402\n",
            "30 50 72\n",
            "1203\n"
          ]
        }
      ]
    },
    {
      "cell_type": "code",
      "source": [
        "# 백준 2775번: 부녀회장이 될테야\n",
        "# https://www.acmicpc.net/problem/2775\n",
        "\n",
        "'''\n",
        "문제를 이해하는거 자체가... 힘들었다. 요약하자면,\n",
        "\n",
        "1.i호에는 i명이 산다. => 즉, 1~3호까지라면 1+2+3 = 6이 되는 것이다.\n",
        "2. “a층의 b호에 살려면 자신의 아래(a-1)층의 1호부터 \n",
        "b호까지 사람들의 수의 합만큼 사람들을 데려와 살아야 한다” \n",
        "는 계약 조항을 꼭 지키고 들어와야 한다.\n",
        "3. 첫번째 예시 1층 3호에 몇 명이 사는지.\n",
        "\n",
        "0층 1호엔 1명이 산다\n",
        "0층 2호엔 2명이 산다\n",
        "0층 3호엔 3명이 산다 -> \n",
        "\n",
        "1층 1호엔 1명이 산다\n",
        "1층 2호엔 3명이 산다\n",
        "1층 3호엔 (1~3호까지 합친 수) 6명이 산다\n",
        "\n",
        "2층 1호엔 1명이 산다\n",
        "2층 2호엔 4명이 산다\n",
        "2층 3호엔 10명이 산다\n",
        "'''"
      ],
      "metadata": {
        "id": "e7zXAQ8nzbbN"
      },
      "execution_count": null,
      "outputs": []
    },
    {
      "cell_type": "code",
      "source": [
        "for t in range(int(input())):\n",
        "    k = int(input())\n",
        "    n = int(input())\n",
        "    count = 0\n",
        "    lst = list(range(1, 15)) # 1~14\n",
        "    lst2 = [0] * 15 # 리스트를 만들어 준다\n",
        "    if count < k: # k보다 count가 작은 것은 규칙에서 (a-1)층을 말하기 때문임.\n",
        "        for i in range(k+1): # 0~k\n",
        "            for j in range(15): # lst2에 이전 층의 합들을 넣어준다.\n",
        "                lst2[j] = sum(lst[0:j+1])\n",
        "                lst = lst2 # lst는 lst2 값으로 다음 순서를 대비한다.\n",
        "                lst[0] = 1 # 1호는 언제나 1명이므로 정정해준다.\n",
        "                count += 1          \n",
        "    else:\n",
        "        break\n",
        "    print(lst2[n-1]+1)"
      ],
      "metadata": {
        "colab": {
          "base_uri": "https://localhost:8080/"
        },
        "id": "6I2ln82U-wBt",
        "outputId": "95876d0c-0b0a-4daa-9ac6-2d3a124afddb"
      },
      "execution_count": 46,
      "outputs": [
        {
          "output_type": "stream",
          "name": "stdout",
          "text": [
            "2\n",
            "1\n",
            "3\n",
            "6\n",
            "2\n",
            "3\n",
            "10\n"
          ]
        }
      ]
    },
    {
      "cell_type": "markdown",
      "source": [
        "예제는 맞았는데,\n",
        "틀렸다고 나옴.\n",
        "뭘 더 어떻게 해야하나."
      ],
      "metadata": {
        "id": "VzhCurabNGCW"
      }
    },
    {
      "cell_type": "code",
      "source": [
        "# https://yoonsang-it.tistory.com/12\n",
        "\n",
        "for i in range(int(input())):\n",
        "    k = int(input())\n",
        "    n = int(input()) # 여기까지는 동일\n",
        "    people = [i for i in range(1, n+1)] #\n",
        "\n",
        "    for x in range(k):\n",
        "        for y in range(1, n):\n",
        "            people[y] += people[y-1]\n",
        "    print(people[-1]) #역으로 가장 큰 숫자 -1 = 10, -2 = 4"
      ],
      "metadata": {
        "colab": {
          "base_uri": "https://localhost:8080/"
        },
        "id": "Qy77p9CPNr_f",
        "outputId": "8f3383d6-6121-43af-a853-90b465984da6"
      },
      "execution_count": 47,
      "outputs": [
        {
          "output_type": "stream",
          "name": "stdout",
          "text": [
            "2\n",
            "1\n",
            "3\n",
            "6\n",
            "2\n",
            "3\n",
            "10\n"
          ]
        }
      ]
    },
    {
      "cell_type": "code",
      "source": [
        "for i in range(int(input())):\n",
        "    k = int(input())\n",
        "    n = int(input()) # 여기까지는 동일\n",
        "    people = [i for i in range(1, n+1)] # 3이면 1 2 3 / 4면 1 2 3 4 등...을 의미\n",
        "    print(people)\n",
        "    for x in range(k): # 각 층 0, 1, 2, ... 올라옴을 의미 마지막 (a-1)층까지\n",
        "        for y in range(1, n): # 0번째 1은 동일\n",
        "            people[y] += people[y-1]\n",
        "            print(people)\n",
        "    print(people[-1]) #역으로 가장 큰 숫자 -1 = 10, -2 = 4"
      ],
      "metadata": {
        "colab": {
          "base_uri": "https://localhost:8080/"
        },
        "id": "TKpmDaOsOoY2",
        "outputId": "0f7d8260-6876-4381-85c0-53f92c49c010"
      },
      "execution_count": 50,
      "outputs": [
        {
          "output_type": "stream",
          "name": "stdout",
          "text": [
            "2\n",
            "1\n",
            "3\n",
            "[1, 2, 3]\n",
            "[1, 3, 3]\n",
            "[1, 3, 6]\n",
            "6\n",
            "2\n",
            "3\n",
            "[1, 2, 3]\n",
            "[1, 3, 3]\n",
            "[1, 3, 6]\n",
            "[1, 4, 6]\n",
            "[1, 4, 10]\n",
            "10\n"
          ]
        }
      ]
    },
    {
      "cell_type": "code",
      "source": [
        "# 위의 코드를 응용하여 만들어보기\n",
        "\n",
        "for t in range(int(input())):\n",
        "    k = int(input())\n",
        "    n = int(input())\n",
        "    lst = list(range(1,n+1))\n",
        "    print(lst)\n",
        "    for i in range(k): \n",
        "        for j in range(1,n): \n",
        "            lst[j] += lst[j-1] \n",
        "            # 핵심은 이 코드! 복잡하게 for문을 더 사용할 필요없이 계산될 수 있다는걸\n",
        "            # 생각했으면 더 좋았을 것이다\n",
        "            print(lst)\n",
        "    print(lst[-1])"
      ],
      "metadata": {
        "colab": {
          "base_uri": "https://localhost:8080/"
        },
        "id": "yWOqVU6gQI8J",
        "outputId": "6ee2c19d-21e2-4989-88ae-0c660cf6202c"
      },
      "execution_count": 53,
      "outputs": [
        {
          "output_type": "stream",
          "name": "stdout",
          "text": [
            "2\n",
            "1\n",
            "3\n",
            "[1, 2, 3]\n",
            "[1, 3, 3]\n",
            "[1, 3, 6]\n",
            "6\n",
            "2\n",
            "3\n",
            "[1, 2, 3]\n",
            "[1, 3, 3]\n",
            "[1, 3, 6]\n",
            "[1, 4, 6]\n",
            "[1, 4, 10]\n",
            "10\n"
          ]
        }
      ]
    },
    {
      "cell_type": "code",
      "source": [
        "# 백준 2839번: 설탕 배달\n",
        "# https://www.acmicpc.net/problem/2839\n"
      ],
      "metadata": {
        "id": "3MVEBLZ-zgo9"
      },
      "execution_count": null,
      "outputs": []
    },
    {
      "cell_type": "code",
      "source": [
        "N = int(input())\n",
        "\n",
        "#5킬로그램 봉지를 사용하면 제일 가볍겠지?\n",
        "\n",
        "if N % 5 == 0:\n",
        "    print(int(N / 5))\n",
        "if N % 5 != 0 & int(N - (N//5*5) + ((N - (N//5*5)) // 3)) <= int(N/3):\n",
        "    print(int(N - (N//5*5) + ((N - (N//5*5)) // 3)))\n",
        "if N % 5 != 0 & int(N - (N//5*5) + ((N - (N//5*5)) // 3)) > int(N/3):\n",
        "    print(int(N/3))\n",
        "else:\n",
        "    print(-1)"
      ],
      "metadata": {
        "colab": {
          "base_uri": "https://localhost:8080/"
        },
        "id": "irV_GGRGsVIB",
        "outputId": "c40e1685-b5ae-4793-a4ed-ea4279bbccb3"
      },
      "execution_count": 14,
      "outputs": [
        {
          "output_type": "stream",
          "name": "stdout",
          "text": [
            "6\n",
            "1\n",
            "-1\n"
          ]
        }
      ]
    },
    {
      "cell_type": "markdown",
      "source": [
        "경우의 수\n",
        "1.   5로만 나눠떨어지는 경우\n",
        "2.   3 5 둘다로 나눠떨어지는 경우\n",
        "3.   3으로만 나눠떨어지는 경우\n",
        "4.   5 몇봉지하고 3으로 나눠떨어지는 경우\n",
        "5.   5 3으로 둘다 나눠떨어지지 않는 경우\n",
        "\n",
        "3, 4번을 같이 조건으로 만듦."
      ],
      "metadata": {
        "id": "RPvHkDlkyUJN"
      }
    },
    {
      "cell_type": "code",
      "source": [
        "N = int(input())\n",
        "\n",
        "if N % 5 == 0 & N % 3 == 0: # 3 5 둘다로 나눠떨어지는 경우\n",
        "    print(int(N / 5))\n",
        "if N % 5 == 0 & N % 3 != 0: # 5로만 나눠떨어지는 경우\n",
        "    print(int(N / 5))\n",
        "if N % 5 != 0 & N % 3 == 0: # 3으로만 나눠떨어지는 경우\n",
        "    if int(N - (N//5*5) + ((N - (N//5*5)) // 3)) <= int(N/3):\n",
        "        print(int(N - (N//5*5) + ((N - (N//5*5)) // 3)))\n",
        "        # 5키로그램 봉지를 먼저 빼고 3키로그램을 빼본다\n",
        "        # 봉지수가 적어야 하므로 더 적은 쪽을 print!\n",
        "    if int(N - (N//5*5) + ((N - (N//5*5)) // 3)) > int(N/3):\n",
        "        print(int(N/3))\n",
        "if N % 5 != 0 & N % 3 != 0:\n",
        "    if (int(N - (N//5*5) + ((N - (N//5*5)) // 3)) * 5 == N) or (int(N - (N//5*5) + ((N - (N//5*5)) // 3)) * 3 == N):\n",
        "        print(int(N - (N//5*5) + ((N - (N//5*5)) // 3)))\n",
        "    else:\n",
        "        print(-1)"
      ],
      "metadata": {
        "colab": {
          "base_uri": "https://localhost:8080/"
        },
        "id": "lOG86LFtx_41",
        "outputId": "99956db3-cd71-4359-8a07-228e684bc73a"
      },
      "execution_count": 22,
      "outputs": [
        {
          "output_type": "stream",
          "name": "stdout",
          "text": [
            "11\n",
            "1\n"
          ]
        }
      ]
    },
    {
      "cell_type": "code",
      "source": [
        "# 출처 : https://deep-learning-study.tistory.com/628\n",
        "\n",
        "n = int(input()) # 설탕\n",
        "\n",
        "result = 0 # 봉지 수\n",
        "\n",
        "while n >= 0:\n",
        "    if n % 5 == 0: # 5로 나눈 나머지가 0인 경우\n",
        "        result += n // 5 # 5로 나눈 몫 추력\n",
        "        print(result)\n",
        "        break\n",
        "    n -= 3 # 설탕이 5의 배수가 될때까지 반복\n",
        "    result += 1 # 봉지 추가\n",
        "else:\n",
        "    print(-1) # while문이 거짓이 되면 -1 출력"
      ],
      "metadata": {
        "id": "xmhEnDtE-gcR"
      },
      "execution_count": null,
      "outputs": []
    },
    {
      "cell_type": "code",
      "source": [
        "# 백준 10757번: 큰 수 A + B\n",
        "# https://www.acmicpc.net/problem/10757\n"
      ],
      "metadata": {
        "id": "rhSUOBMJzlj4"
      },
      "execution_count": null,
      "outputs": []
    },
    {
      "cell_type": "code",
      "source": [
        "print(sum(map(int, input().split())))"
      ],
      "metadata": {
        "colab": {
          "base_uri": "https://localhost:8080/"
        },
        "id": "gLKQ-bITJJZZ",
        "outputId": "7870718d-31b4-4f9c-e5d6-0f8359095248"
      },
      "execution_count": null,
      "outputs": [
        {
          "output_type": "stream",
          "name": "stdout",
          "text": [
            "9223372036854775807 9223372036854775808\n",
            "18446744073709551615\n"
          ]
        }
      ]
    }
  ]
}