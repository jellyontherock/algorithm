{
  "nbformat": 4,
  "nbformat_minor": 0,
  "metadata": {
    "colab": {
      "name": "swea_20220716.ipynb",
      "provenance": [],
      "collapsed_sections": [],
      "authorship_tag": "ABX9TyNqk5Nvw5gs6oCaTqbcdBlu",
      "include_colab_link": true
    },
    "kernelspec": {
      "name": "python3",
      "display_name": "Python 3"
    },
    "language_info": {
      "name": "python"
    }
  },
  "cells": [
    {
      "cell_type": "markdown",
      "metadata": {
        "id": "view-in-github",
        "colab_type": "text"
      },
      "source": [
        "<a href=\"https://colab.research.google.com/github/jellyontherock/algorithm/blob/master/day_log/swea_20220716.ipynb\" target=\"_parent\"><img src=\"https://colab.research.google.com/assets/colab-badge.svg\" alt=\"Open In Colab\"/></a>"
      ]
    },
    {
      "cell_type": "markdown",
      "source": [
        "*swea list2*\n",
        "\n",
        "1. 2일차 - 색칠하기\n",
        "\n",
        "10*10 격자 안에 빨간색 + 파란색을 칠하고\n",
        "겹쳐 보라색이 된 구간을 몇 칸인지 구한다."
      ],
      "metadata": {
        "id": "zzjpokuHtsZh"
      }
    },
    {
      "cell_type": "code",
      "source": [
        "for i in range(int(input())):\n",
        "  n = int(input())\n",
        "  red = []\n",
        "  blue = []\n",
        "  red_x = []\n",
        "  red_y = [] \n",
        "  red_xy =[]\n",
        "  blue_x = []\n",
        "  blue_y = []\n",
        "  blue_xy = []\n",
        "  for j in range(n):\n",
        "    lst = list(map(int, input().split()))\n",
        "    if lst[4] == 1:\n",
        "      red.append(lst)\n",
        "    elif lst[4] == 2:\n",
        "      blue.append(lst)\n",
        "  for h in range(len(red)):\n",
        "    red_x.append(red[h][0])\n",
        "    red_y.append(red[h][1])\n",
        "    red_x.append(red[h][2])\n",
        "    red_y.append(red[h][3])\n",
        "  red_x = set(red_x)\n",
        "  red_y = set(red_y)\n",
        "  for k in range(max(red_x),min(red_x)-1,-1):\n",
        "    for l in range(max(red_y), min(red_y)-1, -1):\n",
        "      red_xy.append([k,l])\n",
        "  for m in range(len(blue)):\n",
        "    blue_x.append(blue[h][0])\n",
        "    blue_y.append(blue[h][1])\n",
        "    blue_x.append(blue[h][2])\n",
        "    blue_y.append(blue[h][3])\n",
        "  blue_x = set(blue_x)\n",
        "  blue_y = set(blue_y)\n",
        "  for n in range(max(blue_x),min(blue_x)-1,-1):\n",
        "    for o in range(max(blue_y), min(blue_y)-1, -1):\n",
        "      blue_xy.append([n,o])\n",
        "  result = 0\n",
        "  for p in red_xy:\n",
        "    if p in blue_xy:\n",
        "      result += 1\n",
        "  print(f\"#{i+1} {result}\")\n",
        "\n"
      ],
      "metadata": {
        "id": "o4JG4KO1t2Uf"
      },
      "execution_count": null,
      "outputs": []
    },
    {
      "cell_type": "markdown",
      "source": [
        "- 무식하게 풀었으나, 런타임 에러.\n",
        "- 2초만에 돌아가게 풀어야 한다.\n"
      ],
      "metadata": {
        "id": "3-40N02D9RFB"
      }
    },
    {
      "cell_type": "code",
      "execution_count": null,
      "metadata": {
        "id": "RkPYR_5otERa"
      },
      "outputs": [],
      "source": [
        "for t in range(int(input())):\n",
        "    red = []\n",
        "    blue = []\n",
        "    for n in range(int(input())):\n",
        "        r1, c1, r2, c2, color = list(map(int, input().split())) # 정보\n",
        "        if color == 1: #red\n",
        "            red += [[i, j] for i in range(c1, c2+1) for j in range(r1, r2+1)]            \n",
        "        if color == 2: #blue\n",
        "            blue += [[i, j] for i in range(c1, c2+1) for j in range(r1, r2+1)]\n",
        "    red_set = set(tuple(x) for x in red)\n",
        "    blue_set = set(tuple(x) for x in blue)\n",
        "\n",
        "    intersection_set = red_set & blue_set\n",
        "    intersection_list = list(list(x) for x in intersection_set)\n",
        "    print(f\"#{t+1} {len(intersection_list)}\")\n",
        "\n"
      ]
    },
    {
      "cell_type": "markdown",
      "source": [
        "- 이 코드는 3월 30일에 PASS 했던 코드다.\n",
        "- RED, BLUE를 한 번에 [i, j]로 돌렸다.\n",
        "- 단연 효율적이라는 점 인정한다.\n",
        "- 사실 고안 방법도 거의 유사하다.\n",
        "- set으로 묶어서 개수를 세어주었다.\n",
        "- 리스트 안에 넣어주고 싶다면 [[i,j]] 식으로 해줄 것. 리마인드"
      ],
      "metadata": {
        "id": "mtL-1OWe9j7W"
      }
    },
    {
      "cell_type": "markdown",
      "source": [
        "2. 2일차 - 부분집합의 합\n",
        "\n",
        "부분집합의 합을 구해봅시다.\n",
        "이거... 전기버스st... 프로그래머스st..."
      ],
      "metadata": {
        "id": "V6GC8M5xDBNK"
      }
    },
    {
      "cell_type": "code",
      "source": [
        "for i in range(int(input())):\n",
        "  n, k = list(map(int, input().split()))\n",
        "  for j in range(n):\n",
        "    \n",
        "\n",
        "      \n",
        "\n",
        "\n"
      ],
      "metadata": {
        "id": "syiOipHM_KB6"
      },
      "execution_count": null,
      "outputs": []
    },
    {
      "cell_type": "code",
      "source": [
        ""
      ],
      "metadata": {
        "id": "mWWLujkZ9-D2"
      },
      "execution_count": null,
      "outputs": []
    }
  ]
}