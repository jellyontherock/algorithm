{
  "nbformat": 4,
  "nbformat_minor": 0,
  "metadata": {
    "colab": {
      "name": "20220719_프로그래머스",
      "provenance": [],
      "authorship_tag": "ABX9TyNgGQHWdieUFsz7lVbekLIx",
      "include_colab_link": true
    },
    "kernelspec": {
      "name": "python3",
      "display_name": "Python 3"
    },
    "language_info": {
      "name": "python"
    }
  },
  "cells": [
    {
      "cell_type": "markdown",
      "metadata": {
        "id": "view-in-github",
        "colab_type": "text"
      },
      "source": [
        "<a href=\"https://colab.research.google.com/github/jellyontherock/algorithm/blob/master/day_log/20220719_%ED%94%84%EB%A1%9C%EA%B7%B8%EB%9E%98%EB%A8%B8%EC%8A%A4.ipynb\" target=\"_parent\"><img src=\"https://colab.research.google.com/assets/colab-badge.svg\" alt=\"Open In Colab\"/></a>"
      ]
    },
    {
      "cell_type": "markdown",
      "source": [
        "문제1 배열\n",
        "\n",
        "- arr\tanswer\n",
        "# [1,1,3,3,0,1,1]\t[1,3,0,1]\n",
        "# [4,4,4,3,3]\t[4,3]"
      ],
      "metadata": {
        "id": "MYWhm8GVpvfD"
      }
    },
    {
      "cell_type": "code",
      "execution_count": null,
      "metadata": {
        "id": "casxHlGepsD2"
      },
      "outputs": [],
      "source": [
        "def solution(arr):\n",
        "    for i in range(len(arr)-1,0,-1):\n",
        "        if arr[i] == arr[i-1]:\n",
        "            del arr[i-1]\n",
        "    answer = arr\n",
        "    return answer"
      ]
    },
    {
      "cell_type": "markdown",
      "source": [
        ""
      ],
      "metadata": {
        "id": "7VLeCi-lp5wb"
      }
    }
  ]
}