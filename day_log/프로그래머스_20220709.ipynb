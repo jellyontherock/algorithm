{
  "nbformat": 4,
  "nbformat_minor": 0,
  "metadata": {
    "colab": {
      "name": "프로그래머스_20220709.ipynb",
      "provenance": [],
      "collapsed_sections": [],
      "authorship_tag": "ABX9TyP8uemZiE4UpqjE+/C/iL9L",
      "include_colab_link": true
    },
    "kernelspec": {
      "name": "python3",
      "display_name": "Python 3"
    },
    "language_info": {
      "name": "python"
    }
  },
  "cells": [
    {
      "cell_type": "markdown",
      "metadata": {
        "id": "view-in-github",
        "colab_type": "text"
      },
      "source": [
        "<a href=\"https://colab.research.google.com/github/jellyontherock/algorithm/blob/master/day_log/%ED%94%84%EB%A1%9C%EA%B7%B8%EB%9E%98%EB%A8%B8%EC%8A%A4_20220709.ipynb\" target=\"_parent\"><img src=\"https://colab.research.google.com/assets/colab-badge.svg\" alt=\"Open In Colab\"/></a>"
      ]
    },
    {
      "cell_type": "markdown",
      "source": [
        "스킬 체크 테스트 level. 1\n",
        "\n",
        "```\n",
        "\n",
        "def solution(x):\n",
        "    n = list(map(int, str(x)))\n",
        "    a = sum(n)\n",
        "    if int(x) // a != 0:\n",
        "        answer = False\n",
        "    else:\n",
        "        answer = True\n",
        "    return answer\n",
        "\n",
        "\n",
        "```\n",
        "\n",
        "위 코드여서 틀림. 2/4\n",
        "이런게 애매함.\n",
        "\n",
        "=> //을 %로 바꾸니 맞음.\n",
        "\n",
        "연산자... 다시 복습.\n",
        "\n"
      ],
      "metadata": {
        "id": "_Ngd5-IVZrld"
      }
    },
    {
      "cell_type": "markdown",
      "source": [
        "어.. 체육복 문제\n",
        "\n",
        "```\n",
        "def solution(n, lost, reserve):\n",
        "    student = [1] * n\n",
        "    for i in range(len(lost)):\n",
        "        student[lost[i]-1] -= 1\n",
        "    for j in range(len(reserve)):\n",
        "        student[reserve[j]-1] += 1\n",
        "    if sum(student) > n:\n",
        "        answer = n\n",
        "    else:\n",
        "        answer = sum(student)\n",
        "    return answer\n",
        "  \n",
        "```\n",
        "\n",
        "한 번에 성공.\n",
        "쁘이...\n",
        "\n",
        "가 아니라\n",
        "\n",
        "채점 결과\n",
        "- 정확성: 35.0\n",
        "- 효율성: 0.0\n",
        "- 합계: 35.0 / 50\n",
        "\n",
        "몇 개 틀렸네\n"
      ],
      "metadata": {
        "id": "cu2Ur501dDWp"
      }
    },
    {
      "cell_type": "markdown",
      "source": [
        "풀이가 되게... 간단하네?"
      ],
      "metadata": {
        "id": "xEGJKObEei8M"
      }
    },
    {
      "cell_type": "code",
      "execution_count": null,
      "metadata": {
        "id": "kn_pxGp1TwZo"
      },
      "outputs": [],
      "source": [
        ""
      ]
    }
  ]
}