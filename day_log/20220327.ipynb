{
  "nbformat": 4,
  "nbformat_minor": 0,
  "metadata": {
    "colab": {
      "name": "20220327.ipynb",
      "provenance": [],
      "collapsed_sections": [],
      "authorship_tag": "ABX9TyMpRixB1sxmK0fWqA76HlbR",
      "include_colab_link": true
    },
    "kernelspec": {
      "name": "python3",
      "display_name": "Python 3"
    },
    "language_info": {
      "name": "python"
    }
  },
  "cells": [
    {
      "cell_type": "markdown",
      "metadata": {
        "id": "view-in-github",
        "colab_type": "text"
      },
      "source": [
        "<a href=\"https://colab.research.google.com/github/jellyontherock/algorithm/blob/master/20220327.ipynb\" target=\"_parent\"><img src=\"https://colab.research.google.com/assets/colab-badge.svg\" alt=\"Open In Colab\"/></a>"
      ]
    },
    {
      "cell_type": "code",
      "execution_count": 10,
      "metadata": {
        "colab": {
          "base_uri": "https://localhost:8080/"
        },
        "id": "mpbpE3q9JqMU",
        "outputId": "c208f2a1-df0a-4a6c-9171-8b15b7cc1f8a"
      },
      "outputs": [
        {
          "output_type": "stream",
          "name": "stdout",
          "text": [
            "3\n",
            "400 300 350\n",
            "#1 A\n",
            "1000 299 578\n",
            "#2 0\n",
            "1000 222 888\n",
            "#3 A\n"
          ]
        }
      ],
      "source": [
        "### SWEA 4839 \n",
        "\n",
        "def binarySearch(a, key):\n",
        "    start = 1\n",
        "    end = a\n",
        "    while start <= end:\n",
        "        for i in range(key):\n",
        "            middle = int((start + end) // 2)\n",
        "            if key == middle:\n",
        "                return i\n",
        "            elif key < middle:\n",
        "                end = middle - 1\n",
        "            else: \n",
        "                start = middle + 1\n",
        "    return 0\n",
        "\n",
        "for t in range(int(input())):\n",
        "    p, pa, pb = list(map(int, input().split()))\n",
        "    if binarySearch(p, pa) > binarySearch(p, pb):\n",
        "        win = 'B'\n",
        "    if binarySearch(p, pa) < binarySearch(p, pb):\n",
        "        win = 'A'\n",
        "    if binarySearch(p, pa) == binarySearch(p, pb):\n",
        "        win = 0\n",
        "    print(f\"#{t+1} {win}\")\n",
        "\n",
        "'''\n",
        "완벽한 답은 아닌데 이게 나의 최선.\n",
        "뭐 더 우짜라고...\n",
        "좀 짜잉남... 많이 짜잉남...\n",
        "'''\n",
        "\n"
      ]
    },
    {
      "cell_type": "code",
      "source": [
        "###  4843. [파이썬 S/W 문제해결 기본] 2일차 - 특별한 정렬\n",
        "\n",
        "for t in range(int(input())):\n",
        "    N = int(input())\n",
        "    for n in range(N):\n",
        "        al = list(map(int, input().split()))\n",
        "        al.sort()\n",
        "        lst = []\n",
        "        while len(al) > (len(al)//2) :\n",
        "                lst.append(al.pop())\n",
        "                lst.append(al[0])\n",
        "                al.remove(al[0])\n",
        "                al.sort()\n",
        "        result = ' '.join(map(str, lst))\n",
        "        print(\"#{} {}\".format(t+1, result))\n",
        "\n",
        "'''\n",
        "      9         while len(al) > (len(al)//2) :\n",
        "     10                 lst.append(al.pop())\n",
        "---> 11                 lst.append(al[0])\n",
        "     12                 al.remove(al[0])\n",
        "     13                 al.sort()\n",
        "\n",
        "IndexError: list index out of range\n",
        "\n",
        "이거 해결 못하고... 머리아파서 쉬어야겠음... ㅎ...\n",
        "'''"
      ],
      "metadata": {
        "colab": {
          "base_uri": "https://localhost:8080/",
          "height": 336
        },
        "id": "iB9T_UYmWkMW",
        "outputId": "d13320d1-36ae-4462-f005-fa93119e83d9"
      },
      "execution_count": 92,
      "outputs": [
        {
          "name": "stdout",
          "output_type": "stream",
          "text": [
            "3\n",
            "10\n",
            "67 39 16 49 60 28 8 85 89 11\n",
            "#1 89 8 85 11 67 16 60 28 49 39\n",
            "20\n"
          ]
        },
        {
          "output_type": "error",
          "ename": "IndexError",
          "evalue": "ignored",
          "traceback": [
            "\u001b[0;31m---------------------------------------------------------------------------\u001b[0m",
            "\u001b[0;31mIndexError\u001b[0m                                Traceback (most recent call last)",
            "\u001b[0;32m<ipython-input-92-cb5a48d86d4c>\u001b[0m in \u001b[0;36m<module>\u001b[0;34m()\u001b[0m\n\u001b[1;32m      9\u001b[0m         \u001b[0;32mwhile\u001b[0m \u001b[0mlen\u001b[0m\u001b[0;34m(\u001b[0m\u001b[0mal\u001b[0m\u001b[0;34m)\u001b[0m \u001b[0;34m>\u001b[0m \u001b[0;34m(\u001b[0m\u001b[0mlen\u001b[0m\u001b[0;34m(\u001b[0m\u001b[0mal\u001b[0m\u001b[0;34m)\u001b[0m\u001b[0;34m//\u001b[0m\u001b[0;36m2\u001b[0m\u001b[0;34m)\u001b[0m \u001b[0;34m:\u001b[0m\u001b[0;34m\u001b[0m\u001b[0;34m\u001b[0m\u001b[0m\n\u001b[1;32m     10\u001b[0m                 \u001b[0mlst\u001b[0m\u001b[0;34m.\u001b[0m\u001b[0mappend\u001b[0m\u001b[0;34m(\u001b[0m\u001b[0mal\u001b[0m\u001b[0;34m.\u001b[0m\u001b[0mpop\u001b[0m\u001b[0;34m(\u001b[0m\u001b[0;34m)\u001b[0m\u001b[0;34m)\u001b[0m\u001b[0;34m\u001b[0m\u001b[0;34m\u001b[0m\u001b[0m\n\u001b[0;32m---> 11\u001b[0;31m                 \u001b[0mlst\u001b[0m\u001b[0;34m.\u001b[0m\u001b[0mappend\u001b[0m\u001b[0;34m(\u001b[0m\u001b[0mal\u001b[0m\u001b[0;34m[\u001b[0m\u001b[0;36m0\u001b[0m\u001b[0;34m]\u001b[0m\u001b[0;34m)\u001b[0m\u001b[0;34m\u001b[0m\u001b[0;34m\u001b[0m\u001b[0m\n\u001b[0m\u001b[1;32m     12\u001b[0m                 \u001b[0mal\u001b[0m\u001b[0;34m.\u001b[0m\u001b[0mremove\u001b[0m\u001b[0;34m(\u001b[0m\u001b[0mal\u001b[0m\u001b[0;34m[\u001b[0m\u001b[0;36m0\u001b[0m\u001b[0;34m]\u001b[0m\u001b[0;34m)\u001b[0m\u001b[0;34m\u001b[0m\u001b[0;34m\u001b[0m\u001b[0m\n\u001b[1;32m     13\u001b[0m                 \u001b[0mal\u001b[0m\u001b[0;34m.\u001b[0m\u001b[0msort\u001b[0m\u001b[0;34m(\u001b[0m\u001b[0;34m)\u001b[0m\u001b[0;34m\u001b[0m\u001b[0;34m\u001b[0m\u001b[0m\n",
            "\u001b[0;31mIndexError\u001b[0m: list index out of range"
          ]
        }
      ]
    },
    {
      "cell_type": "code",
      "source": [
        "311 2 3 4 5 6 7 8 9 10\n",
        "1"
      ],
      "metadata": {
        "id": "Yp5ekT2Il6-q"
      },
      "execution_count": null,
      "outputs": []
    }
  ]
}