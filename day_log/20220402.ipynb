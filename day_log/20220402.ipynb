{
  "nbformat": 4,
  "nbformat_minor": 0,
  "metadata": {
    "colab": {
      "name": "20220402.ipynb",
      "provenance": [],
      "collapsed_sections": [],
      "authorship_tag": "ABX9TyP7db/70VoaM9ZBL88N5Ueb",
      "include_colab_link": true
    },
    "kernelspec": {
      "name": "python3",
      "display_name": "Python 3"
    },
    "language_info": {
      "name": "python"
    }
  },
  "cells": [
    {
      "cell_type": "markdown",
      "metadata": {
        "id": "view-in-github",
        "colab_type": "text"
      },
      "source": [
        "<a href=\"https://colab.research.google.com/github/jellyontherock/algorithm/blob/master/20220402.ipynb\" target=\"_parent\"><img src=\"https://colab.research.google.com/assets/colab-badge.svg\" alt=\"Open In Colab\"/></a>"
      ]
    },
    {
      "cell_type": "code",
      "execution_count": null,
      "metadata": {
        "id": "k8FUx6bfypgo"
      },
      "outputs": [],
      "source": [
        "# 백준 1712번: 손익분기점\n",
        "# https://www.acmicpc.net/problem/1712\n"
      ]
    },
    {
      "cell_type": "code",
      "source": [
        "A, B, C = map(int, input().split())\n",
        "count = -1\n",
        "\n",
        "for i in range(1, 2100000001):\n",
        "     revenue = C * i\n",
        "     cost = A + (B * i)\n",
        "     if revenue < cost:\n",
        "        count = i + 1\n",
        "     if revenue >= cost:\n",
        "        count = i + 1\n",
        "        break\n",
        "print(count)\n",
        "    "
      ],
      "metadata": {
        "id": "Sui3wU6XzwS0"
      },
      "execution_count": null,
      "outputs": []
    },
    {
      "cell_type": "markdown",
      "source": [
        "런타임 에러.\n",
        "손익분기점을 넘기려면 조건이 뭘까?... 다른 조건."
      ],
      "metadata": {
        "id": "w25g0uW26GCG"
      }
    },
    {
      "cell_type": "code",
      "source": [
        ""
      ],
      "metadata": {
        "id": "TeGu1Fze6M6E"
      },
      "execution_count": null,
      "outputs": []
    },
    {
      "cell_type": "code",
      "source": [
        "# 백준 2292번: 벌집\n",
        "# https://www.acmicpc.net/problem/2292\n",
        "\n"
      ],
      "metadata": {
        "id": "yWzD5NhFzCXD"
      },
      "execution_count": null,
      "outputs": []
    },
    {
      "cell_type": "code",
      "source": [
        "# 백준 1193번: 분수찾기\n",
        "# https://www.acmicpc.net/problem/1193\n"
      ],
      "metadata": {
        "id": "dRS7CWoxzHlr"
      },
      "execution_count": null,
      "outputs": []
    },
    {
      "cell_type": "code",
      "source": [
        "N = int(input())"
      ],
      "metadata": {
        "id": "El0LB1jUCzFq"
      },
      "execution_count": null,
      "outputs": []
    },
    {
      "cell_type": "code",
      "source": [
        "# 백준 2869번: 달팽이는 올라가고 싶다\n",
        "# https://www.acmicpc.net/problem/2869"
      ],
      "metadata": {
        "id": "_PuWtUF1zMw9"
      },
      "execution_count": null,
      "outputs": []
    },
    {
      "cell_type": "code",
      "source": [
        "A, B, V = map(int, input().split())\n",
        "high = 0\n",
        "count = 0\n",
        "\n",
        "for i in range(int(V/(A-B))):\n",
        "    high += A\n",
        "    count += 0.5\n",
        "    if high < V :\n",
        "        high -= B\n",
        "        count += 0.5\n",
        "    else:\n",
        "        print(round(count))\n",
        "        break"
      ],
      "metadata": {
        "id": "iDcN_rzNECbi"
      },
      "execution_count": null,
      "outputs": []
    },
    {
      "cell_type": "markdown",
      "source": [
        "시간 초과.\n"
      ],
      "metadata": {
        "id": "nfwIhLvAGtQY"
      }
    },
    {
      "cell_type": "code",
      "source": [
        "A, B, V = map(int, input().split())\n",
        "print(round(V / (A-B)))"
      ],
      "metadata": {
        "colab": {
          "base_uri": "https://localhost:8080/"
        },
        "id": "hOvcokaJGpFb",
        "outputId": "763e73c7-8ae9-4268-ffb9-a0384ecab836"
      },
      "execution_count": 19,
      "outputs": [
        {
          "output_type": "stream",
          "name": "stdout",
          "text": [
            "5 1 6\n",
            "2\n"
          ]
        }
      ]
    },
    {
      "cell_type": "markdown",
      "source": [
        "그냥 해봄."
      ],
      "metadata": {
        "id": "HUT5XYTcHedi"
      }
    },
    {
      "cell_type": "code",
      "source": [
        "import math\n",
        "\n",
        "A, B, V = map(int, input().split())\n",
        "high = 0\n",
        "count = 0\n",
        "\n",
        "for i in range(int(V/(A-B))):\n",
        "    high += A\n",
        "    count += 0.5\n",
        "    if high < V :\n",
        "        high -= B\n",
        "        count += 0.5\n",
        "    else:\n",
        "        print(math.floor(count))\n",
        "        break\n"
      ],
      "metadata": {
        "id": "0UptTF1SHdki"
      },
      "execution_count": null,
      "outputs": []
    },
    {
      "cell_type": "code",
      "source": [
        "import math\n",
        "\n",
        "A, B, V = map(int, input().split())\n",
        "print(math.floor(V / (A-B)))"
      ],
      "metadata": {
        "colab": {
          "base_uri": "https://localhost:8080/"
        },
        "id": "5hmomi_AIWpW",
        "outputId": "3fe813dd-96e2-45b3-9060-32466811218b"
      },
      "execution_count": 24,
      "outputs": [
        {
          "output_type": "stream",
          "name": "stdout",
          "text": [
            "100 99 1000000000\n",
            "1000000000\n"
          ]
        }
      ]
    },
    {
      "cell_type": "code",
      "source": [
        "# 백준 10250번: ACM 호텔\n",
        "# https://www.acmicpc.net/problem/10250\n"
      ],
      "metadata": {
        "id": "C-d4_p3YzX8A"
      },
      "execution_count": null,
      "outputs": []
    },
    {
      "cell_type": "code",
      "source": [
        "# 백준 2775번: 부녀회장이 될테야\n",
        "# https://www.acmicpc.net/problem/2775"
      ],
      "metadata": {
        "id": "e7zXAQ8nzbbN"
      },
      "execution_count": null,
      "outputs": []
    },
    {
      "cell_type": "code",
      "source": [
        "# 백준 2839번: 설탕 배달\n",
        "# https://www.acmicpc.net/problem/2839\n"
      ],
      "metadata": {
        "id": "3MVEBLZ-zgo9"
      },
      "execution_count": null,
      "outputs": []
    },
    {
      "cell_type": "code",
      "source": [
        "# 백준 10757번: 큰 수 A + B\n",
        "# https://www.acmicpc.net/problem/10757\n"
      ],
      "metadata": {
        "id": "rhSUOBMJzlj4"
      },
      "execution_count": null,
      "outputs": []
    },
    {
      "cell_type": "code",
      "source": [
        "print(sum(map(int, input().split())))"
      ],
      "metadata": {
        "colab": {
          "base_uri": "https://localhost:8080/"
        },
        "id": "gLKQ-bITJJZZ",
        "outputId": "7870718d-31b4-4f9c-e5d6-0f8359095248"
      },
      "execution_count": 26,
      "outputs": [
        {
          "output_type": "stream",
          "name": "stdout",
          "text": [
            "9223372036854775807 9223372036854775808\n",
            "18446744073709551615\n"
          ]
        }
      ]
    }
  ]
}
