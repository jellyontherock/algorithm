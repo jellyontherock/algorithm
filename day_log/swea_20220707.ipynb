{
  "nbformat": 4,
  "nbformat_minor": 0,
  "metadata": {
    "colab": {
      "name": "swea_20220707.ipynb",
      "provenance": [],
      "collapsed_sections": [],
      "authorship_tag": "ABX9TyNJFYhfytvoiQrgADwXBLom",
      "include_colab_link": true
    },
    "kernelspec": {
      "name": "python3",
      "display_name": "Python 3"
    },
    "language_info": {
      "name": "python"
    }
  },
  "cells": [
    {
      "cell_type": "markdown",
      "metadata": {
        "id": "view-in-github",
        "colab_type": "text"
      },
      "source": [
        "<a href=\"https://colab.research.google.com/github/jellyontherock/algorithm/blob/master/day_log/swea_20220707.ipynb\" target=\"_parent\"><img src=\"https://colab.research.google.com/assets/colab-badge.svg\" alt=\"Open In Colab\"/></a>"
      ]
    },
    {
      "cell_type": "markdown",
      "source": [
        "1. 4828. [파이썬 S/W 문제해결 기본] 1일차 - min max "
      ],
      "metadata": {
        "id": "7rT8sds8TnOy"
      }
    },
    {
      "cell_type": "code",
      "execution_count": null,
      "metadata": {
        "colab": {
          "base_uri": "https://localhost:8080/"
        },
        "id": "fPAc7OF7SivD",
        "outputId": "86c09a41-4cdd-44eb-fe00-ac2bbb2dfd3e"
      },
      "outputs": [
        {
          "output_type": "stream",
          "name": "stdout",
          "text": [
            "3\n",
            "5\n",
            "477162 658880 751280 927930 297191\n",
            "#1 630739\n",
            "5\n",
            "565469 851600 460874 148692 111090\n",
            "#2 740510\n",
            "10\n",
            "784386 279993 982220 996285 614710 992232 195265 359810 919192 158175\n",
            "#3 838110\n"
          ]
        }
      ],
      "source": [
        "T = input()\n",
        "for i in range(int(T)):\n",
        "    N = int(input())\n",
        "    lst = list(map(int, input().split())) \n",
        "    lst.sort()\n",
        "    result = lst[-1] - lst[0]\n",
        "    print(f\"#{i+1} {result}\")"
      ]
    },
    {
      "cell_type": "markdown",
      "source": [
        "2. 4834. [파이썬 S/W 문제해결 기본] 1일차 - 숫자 카드"
      ],
      "metadata": {
        "id": "WFL-hSmsaGjU"
      }
    },
    {
      "cell_type": "code",
      "source": [
        "for i in range(int(input())):\n",
        "    n = int(input())\n",
        "    lst = list(map(int,input()))\n",
        "\n",
        "    for j in range(n):\n",
        "        result = 0\n",
        "        card = 0\n",
        "        if lst.count(lst[j]) > result:\n",
        "            result = lst.count(lst[j])\n",
        "            card = lst[j]\n",
        "        else:\n",
        "            continue\n",
        "    print(f\"#{i+1} {card} {result}\")"
      ],
      "metadata": {
        "id": "NbopBeUhWP8Z",
        "colab": {
          "base_uri": "https://localhost:8080/"
        },
        "outputId": "91733baa-1b08-4922-81c7-1a33c6c55b8d"
      },
      "execution_count": 17,
      "outputs": [
        {
          "output_type": "stream",
          "name": "stdout",
          "text": [
            "3\n",
            "5\n",
            "49679\n",
            "#1 9 2\n",
            "5\n",
            "08271\n",
            "#2 1 1\n",
            "10\n",
            "7797946543\n",
            "#3 3 1\n"
          ]
        }
      ]
    },
    {
      "cell_type": "markdown",
      "source": [
        "시도 했으나 틀림.\n",
        "\n",
        "1) 장수가 같은 경우 가장 큰 숫자가 온다.\n",
        "2) #3 케이스 이유는 모르겠음.\n",
        "\n",
        "    for i in range(N):\n",
        "        card[a[i]] += 1\n",
        "\n",
        "    여기서 전구를 키듯,\n",
        "\n",
        "    [0, 1, 0, 1, 0, 0] 이런 식의 리스트를 만들고\n",
        "    거기서 카운트를 더하고 max값을 찾는 풀이를\n",
        "    내가 예전에 했었다.\n",
        "\n",
        "    요령 부리고 싶었는데\n",
        "    다른 방법은 없나.\n"
      ],
      "metadata": {
        "id": "rBS6Z4t71w5p"
      }
    },
    {
      "cell_type": "code",
      "source": [
        "for i in range(int(input())):\n",
        "    n = int(input())\n",
        "    lst = list(map(int,input()))\n",
        "    card = [0] * 10\n",
        "\n",
        "    for j in range(n):\n",
        "      card[lst[j]] += 1\n",
        "\n",
        "    max_card = max(card)\n",
        "    result = []\n",
        "\n",
        "    for h in range(10):\n",
        "      if card[h] == max(card):\n",
        "        result.append(h)\n",
        "    \n",
        "    result.sort()\n",
        "    result_card = result[-1]\n",
        "\n",
        "    print(f\"#{i+1} {result_card} {max_card}\")"
      ],
      "metadata": {
        "colab": {
          "base_uri": "https://localhost:8080/"
        },
        "id": "fDmydkNd2umI",
        "outputId": "8ade62f9-cc71-4ce9-f91c-54049c12b751"
      },
      "execution_count": 28,
      "outputs": [
        {
          "output_type": "stream",
          "name": "stdout",
          "text": [
            "3\n",
            "5\n",
            "49679\n",
            "#1 9 2\n",
            "5\n",
            "08271\n",
            "#2 8 1\n",
            "10\n",
            "7797946543\n",
            "#3 7 3\n"
          ]
        }
      ]
    },
    {
      "cell_type": "code",
      "source": [
        "55"
      ],
      "metadata": {
        "id": "7H88uwvFaKpa",
        "colab": {
          "base_uri": "https://localhost:8080/"
        },
        "outputId": "2680b737-52fb-4bdf-f3e4-0b18f9b63658"
      },
      "execution_count": 22,
      "outputs": [
        {
          "output_type": "execute_result",
          "data": {
            "text/plain": [
              "5"
            ]
          },
          "metadata": {},
          "execution_count": 22
        }
      ]
    },
    {
      "cell_type": "code",
      "source": [
        ""
      ],
      "metadata": {
        "id": "PMBK6iIe5jxk"
      },
      "execution_count": 22,
      "outputs": []
    }
  ]
}