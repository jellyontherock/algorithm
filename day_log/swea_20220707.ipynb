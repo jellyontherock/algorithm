{
  "nbformat": 4,
  "nbformat_minor": 0,
  "metadata": {
    "colab": {
      "name": "swea_20220707.ipynb",
      "provenance": [],
      "collapsed_sections": [],
      "authorship_tag": "ABX9TyNJODejWe3e5xxoWcejEKFP",
      "include_colab_link": true
    },
    "kernelspec": {
      "name": "python3",
      "display_name": "Python 3"
    },
    "language_info": {
      "name": "python"
    }
  },
  "cells": [
    {
      "cell_type": "markdown",
      "metadata": {
        "id": "view-in-github",
        "colab_type": "text"
      },
      "source": [
        "<a href=\"https://colab.research.google.com/github/jellyontherock/algorithm/blob/master/day_log/swea_20220707.ipynb\" target=\"_parent\"><img src=\"https://colab.research.google.com/assets/colab-badge.svg\" alt=\"Open In Colab\"/></a>"
      ]
    },
    {
      "cell_type": "markdown",
      "source": [
        "4828. [파이썬 S/W 문제해결 기본] 1일차 - min max "
      ],
      "metadata": {
        "id": "7rT8sds8TnOy"
      }
    },
    {
      "cell_type": "code",
      "execution_count": 7,
      "metadata": {
        "colab": {
          "base_uri": "https://localhost:8080/"
        },
        "id": "fPAc7OF7SivD",
        "outputId": "86c09a41-4cdd-44eb-fe00-ac2bbb2dfd3e"
      },
      "outputs": [
        {
          "output_type": "stream",
          "name": "stdout",
          "text": [
            "3\n",
            "5\n",
            "477162 658880 751280 927930 297191\n",
            "#1 630739\n",
            "5\n",
            "565469 851600 460874 148692 111090\n",
            "#2 740510\n",
            "10\n",
            "784386 279993 982220 996285 614710 992232 195265 359810 919192 158175\n",
            "#3 838110\n"
          ]
        }
      ],
      "source": [
        "T = input()\n",
        "for i in range(int(T)):\n",
        "    N = int(input())\n",
        "    lst = list(map(int, input().split())) \n",
        "    lst.sort()\n",
        "    result = lst[-1] - lst[0]\n",
        "    print(f\"#{i+1} {result}\")"
      ]
    },
    {
      "cell_type": "markdown",
      "source": [
        "4834. [파이썬 S/W 문제해결 기본] 1일차 - 숫자 카드"
      ],
      "metadata": {
        "id": "WFL-hSmsaGjU"
      }
    },
    {
      "cell_type": "code",
      "source": [
        ""
      ],
      "metadata": {
        "id": "NbopBeUhWP8Z"
      },
      "execution_count": null,
      "outputs": []
    },
    {
      "cell_type": "code",
      "source": [
        ""
      ],
      "metadata": {
        "id": "7H88uwvFaKpa"
      },
      "execution_count": null,
      "outputs": []
    }
  ]
}