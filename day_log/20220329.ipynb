{
  "nbformat": 4,
  "nbformat_minor": 0,
  "metadata": {
    "colab": {
      "name": "20220329.ipynb",
      "provenance": [],
      "collapsed_sections": [],
      "authorship_tag": "ABX9TyNUIolSfPMP3K08ET7X5Bxl",
      "include_colab_link": true
    },
    "kernelspec": {
      "name": "python3",
      "display_name": "Python 3"
    },
    "language_info": {
      "name": "python"
    }
  },
  "cells": [
    {
      "cell_type": "markdown",
      "metadata": {
        "id": "view-in-github",
        "colab_type": "text"
      },
      "source": [
        "<a href=\"https://colab.research.google.com/github/jellyontherock/algorithm/blob/master/20220329.ipynb\" target=\"_parent\"><img src=\"https://colab.research.google.com/assets/colab-badge.svg\" alt=\"Open In Colab\"/></a>"
      ]
    },
    {
      "cell_type": "code",
      "execution_count": null,
      "metadata": {
        "id": "fwQ1IVIp7pNu"
      },
      "outputs": [],
      "source": [
        "## 색칠하기 문제 다시 도전!!\n",
        "\n",
        "\n",
        "box = []\n",
        "\n",
        "for i in range(10):\n",
        "    box.append([])\n",
        "    for j in range(10):\n",
        "        box[i].append(0)\n",
        "\n",
        "T = int(input())\n",
        "\n",
        "guyuk1 = []\n",
        "guyuk2 = []\n",
        "\n",
        "for y in range(1,T+1):\n",
        "    N = int(input())\n",
        "    for z in range(N):\n",
        "        r1, c1, r2, c2, color = list(map(int, input().split()))\n",
        "        if color == 1:\n",
        "          for i in range(c2, c1-1, -1): #2 2 4 4 1 일때 4, 3, 2이 범위가 된다.\n",
        "              for j in range(r2, r1-1, -1):\n",
        "                guyuk1.append([j,i])\n",
        "          for i in range(len(guyuk1)):\n",
        "              guyuk1[i] = str(guyuk1[i])\n",
        "\n",
        "        if color == 2:\n",
        "          for i in range(c2, c1-1, -1): #2 2 4 4 1 일때 4, 3, 2이 범위가 된다.\n",
        "              for j in range(r2, r1-1, -1):\n",
        "                guyuk2.append([j,i])\n",
        "          for i in range(len(guyuk2)):\n",
        "              guyuk2[i] = str(guyuk2[i])\n",
        "\n",
        "          lintersection = list(set(guyuk1) & set(guyuk2))\n",
        "          \n",
        "    print(f\"#{y} {len(lintersection)}\")\n",
        "\n",
        "  "
      ]
    },
    {
      "cell_type": "code",
      "source": [
        "'''\n",
        "\n",
        "arr = [i for in range(int(input()))]\n",
        "#if i%2==0\n",
        "\n",
        "brr = [[i,j] for i in range(3) for j in range(2)]\n",
        "[[0,0],[0,1].[1,0], [1,1], [2,0], [2,1]]\n",
        "\n",
        "i: 행의 좌표 len(arr)\n",
        "j: 열의 좌표, len(arr[0])\n",
        "arr = [[1,2,3],[4,5,6],[7,8,9]] 3*3 행렬\n",
        "\n",
        "for i in range(3):\n",
        "  for j in range(3):\n",
        "    if i < j:\n",
        "      arr[i][j], arr[j][i] = arr[j][i], arr[i][j]\n",
        "\n",
        "zip(alpha, index)\n",
        "alpha = ['a', 'b', 'c']\n",
        "index = [1, 2, 3]\n",
        "\n",
        "'''"
      ],
      "metadata": {
        "id": "HNiLKkKq_rm1"
      },
      "execution_count": null,
      "outputs": []
    },
    {
      "cell_type": "code",
      "source": [
        "#pan = [[i, j]] for i in range(10) for j in range(10)]\n",
        "#[[0,0], [0,1], ... [0,9], [1,0], .... [9,9]]\n",
        "\n",
        "\n",
        "    \n",
        "for t in range(int(input())):\n",
        "    red = []\n",
        "    blue = []\n",
        "    for n in range(int(input())):\n",
        "      r1, c1, r2, c2, color = list(map(int, input().split())) # 정보\n",
        "      if color == 1: #red\n",
        "          red += [[i, j] for i in range(c1, c2+1) for j in range(r1, r2+1)]            \n",
        "      if color == 2: #blue\n",
        "          blue += [[i, j] for i in range(c1, c2+1) for j in range(r1, r2+1)]\n",
        "    red = str(red)\n",
        "    blue = str(blue) \n",
        "    intersection = len(list(set(red) & set(blue)))\n",
        "    print(f\"#{t+1} {intersection}\")"
      ],
      "metadata": {
        "colab": {
          "base_uri": "https://localhost:8080/"
        },
        "id": "QWrd91gMBXee",
        "outputId": "60b51e74-f8f8-4de9-d8d3-1ce816a4016b"
      },
      "execution_count": 27,
      "outputs": [
        {
          "output_type": "stream",
          "name": "stdout",
          "text": [
            "3\n",
            "2\n",
            "2 2 4 4 1\n",
            "3 3 6 6 2\n",
            "#1 6\n",
            "3\n",
            "1 2 3 3 1\n",
            "3 6 6 8 1\n",
            "2 3 5 6 2\n",
            "#2 9\n",
            "3\n",
            "1 4 8 5 1\n",
            "1 8 3 9 1\n",
            "3 2 5 8 2\n",
            "#3 11\n"
          ]
        }
      ]
    },
    {
      "cell_type": "code",
      "source": [
        "for n in range(int(input())):\n",
        "    r1, c1, r2, c2, color = list(map(int, input().split())) # 정보\n",
        "    red = []\n",
        "    blue = []\n",
        "    if color == 1: #red\n",
        "      red += [[i, j] for i in range(r1, r2+1) for j in range(c1, c2+1)]            \n",
        "    else: #blue\n",
        "      blue += [[i, j] for i in range(r1, r2+1) for j in range(c1, c2+1)]\n",
        "red = str(red)\n",
        "blue = str(blue)   \n",
        "print(red)\n",
        "print(blue)\n",
        "intersection = len(set(red) & set(blue))\n",
        "print(intersection)"
      ],
      "metadata": {
        "id": "P1vQBh3XEfIa"
      },
      "execution_count": null,
      "outputs": []
    },
    {
      "cell_type": "code",
      "source": [
        "돌아가는데 이상하게 돌아가서 다시 해봄 답이 틀림 아ㅏㅏㅏㅏㅏㅏㅏ"
      ],
      "metadata": {
        "id": "PQikbS7ZHrig"
      },
      "execution_count": null,
      "outputs": []
    },
    {
      "cell_type": "code",
      "source": [
        "for t in range(int(input())):\n",
        "    red = []\n",
        "    blue = []\n",
        "    for n in range(int(input())):\n",
        "      r1, c1, r2, c2, color = list(map(int, input().split())) # 정보\n",
        "      if color == 1: #red\n",
        "          red += [[i, j] for i in range(c1, c2+1) for j in range(r1, r2+1)]            \n",
        "      if color == 2: #blue\n",
        "          blue += [[i, j] for i in range(c1, c2+1) for j in range(r1, r2+1)] \n",
        "    #intersection = len(set(red) & set(blue))\n",
        "    print(list(red))\n",
        "    print(list(blue))\n",
        "    intersection = len(list(set(red) & set(blue)))\n",
        "    print(list(set(red) & set(blue)))\n",
        "    print(set(list(red)) & set(list(blue)))\n",
        "    print(intersection)"
      ],
      "metadata": {
        "colab": {
          "base_uri": "https://localhost:8080/",
          "height": 354
        },
        "id": "H34zSSW2OmXd",
        "outputId": "a4f185fe-67e1-470c-c7d3-57dd5c8f02d0"
      },
      "execution_count": 46,
      "outputs": [
        {
          "output_type": "stream",
          "name": "stdout",
          "text": [
            "3\n",
            "2\n",
            "2 2 4 4 1\n",
            "3 3 6 6 2\n",
            "[[2, 2], [2, 3], [2, 4], [3, 2], [3, 3], [3, 4], [4, 2], [4, 3], [4, 4]]\n",
            "[[3, 3], [3, 4], [3, 5], [3, 6], [4, 3], [4, 4], [4, 5], [4, 6], [5, 3], [5, 4], [5, 5], [5, 6], [6, 3], [6, 4], [6, 5], [6, 6]]\n"
          ]
        },
        {
          "output_type": "error",
          "ename": "TypeError",
          "evalue": "ignored",
          "traceback": [
            "\u001b[0;31m---------------------------------------------------------------------------\u001b[0m",
            "\u001b[0;31mTypeError\u001b[0m                                 Traceback (most recent call last)",
            "\u001b[0;32m<ipython-input-46-e0a8e962ef62>\u001b[0m in \u001b[0;36m<module>\u001b[0;34m()\u001b[0m\n\u001b[1;32m     11\u001b[0m     \u001b[0mprint\u001b[0m\u001b[0;34m(\u001b[0m\u001b[0mlist\u001b[0m\u001b[0;34m(\u001b[0m\u001b[0mred\u001b[0m\u001b[0;34m)\u001b[0m\u001b[0;34m)\u001b[0m\u001b[0;34m\u001b[0m\u001b[0;34m\u001b[0m\u001b[0m\n\u001b[1;32m     12\u001b[0m     \u001b[0mprint\u001b[0m\u001b[0;34m(\u001b[0m\u001b[0mlist\u001b[0m\u001b[0;34m(\u001b[0m\u001b[0mblue\u001b[0m\u001b[0;34m)\u001b[0m\u001b[0;34m)\u001b[0m\u001b[0;34m\u001b[0m\u001b[0;34m\u001b[0m\u001b[0m\n\u001b[0;32m---> 13\u001b[0;31m     \u001b[0mintersection\u001b[0m \u001b[0;34m=\u001b[0m \u001b[0mlen\u001b[0m\u001b[0;34m(\u001b[0m\u001b[0mlist\u001b[0m\u001b[0;34m(\u001b[0m\u001b[0mset\u001b[0m\u001b[0;34m(\u001b[0m\u001b[0mred\u001b[0m\u001b[0;34m)\u001b[0m \u001b[0;34m&\u001b[0m \u001b[0mset\u001b[0m\u001b[0;34m(\u001b[0m\u001b[0mblue\u001b[0m\u001b[0;34m)\u001b[0m\u001b[0;34m)\u001b[0m\u001b[0;34m)\u001b[0m\u001b[0;34m\u001b[0m\u001b[0;34m\u001b[0m\u001b[0m\n\u001b[0m\u001b[1;32m     14\u001b[0m     \u001b[0mprint\u001b[0m\u001b[0;34m(\u001b[0m\u001b[0mlist\u001b[0m\u001b[0;34m(\u001b[0m\u001b[0mset\u001b[0m\u001b[0;34m(\u001b[0m\u001b[0mred\u001b[0m\u001b[0;34m)\u001b[0m \u001b[0;34m&\u001b[0m \u001b[0mset\u001b[0m\u001b[0;34m(\u001b[0m\u001b[0mblue\u001b[0m\u001b[0;34m)\u001b[0m\u001b[0;34m)\u001b[0m\u001b[0;34m)\u001b[0m\u001b[0;34m\u001b[0m\u001b[0;34m\u001b[0m\u001b[0m\n\u001b[1;32m     15\u001b[0m     \u001b[0mprint\u001b[0m\u001b[0;34m(\u001b[0m\u001b[0mset\u001b[0m\u001b[0;34m(\u001b[0m\u001b[0mlist\u001b[0m\u001b[0;34m(\u001b[0m\u001b[0mred\u001b[0m\u001b[0;34m)\u001b[0m\u001b[0;34m)\u001b[0m \u001b[0;34m&\u001b[0m \u001b[0mset\u001b[0m\u001b[0;34m(\u001b[0m\u001b[0mlist\u001b[0m\u001b[0;34m(\u001b[0m\u001b[0mblue\u001b[0m\u001b[0;34m)\u001b[0m\u001b[0;34m)\u001b[0m\u001b[0;34m)\u001b[0m\u001b[0;34m\u001b[0m\u001b[0;34m\u001b[0m\u001b[0m\n",
            "\u001b[0;31mTypeError\u001b[0m: unhashable type: 'list'"
          ]
        }
      ]
    },
    {
      "cell_type": "code",
      "source": [
        "이것만 해결하면 문제가 풀릴 것 같다. 어떻게 해결하지? 타입에러... 리스트 안에 있는 리스트 끼리의 교집합을 구할 수 없는건가??? \n",
        "https://stackoverflow.com/questions/71665061/how-to-find-intersection\n",
        "결국 질문 글을 올렸다. 그러면... for 문에 넣어서 다 돌려가지고 같으면 +1 하고 이렇게 해볼까?"
      ],
      "metadata": {
        "id": "BU2NKLu5O0h1"
      },
      "execution_count": null,
      "outputs": []
    },
    {
      "cell_type": "code",
      "source": [
        "for t in range(int(input())):\n",
        "    red = []\n",
        "    blue = []\n",
        "    count = 0\n",
        "    for n in range(int(input())):\n",
        "      r1, c1, r2, c2, color = list(map(int, input().split())) # 정보\n",
        "      if color == 1: #red\n",
        "          red += [[i, j] for i in range(c1, c2+1) for j in range(r1, r2+1)]            \n",
        "      if color == 2: #blue\n",
        "          blue += [[i, j] for i in range(c1, c2+1) for j in range(r1, r2+1)]\n",
        "    for r in range(len(red)): #교집합이니까 레드 먼저하더라도 답이 나오겠지\n",
        "      if red[r] in blue:\n",
        "          count += 1\n",
        "    print(f\"#{t+1} {count}\")"
      ],
      "metadata": {
        "colab": {
          "base_uri": "https://localhost:8080/"
        },
        "id": "AbYGkPKXR4gW",
        "outputId": "c8b0853e-6dbe-45e0-e1b3-ce1b744d5bb1"
      },
      "execution_count": 47,
      "outputs": [
        {
          "output_type": "stream",
          "name": "stdout",
          "text": [
            "3\n",
            "2\n",
            "2 2 4 4 1\n",
            "3 3 6 6 2\n",
            "#1 4\n",
            "3\n",
            "1 2 3 3 1\n",
            "3 6 6 8 1\n",
            "2 3 5 6 2\n",
            "#2 5\n",
            "3\n",
            "1 4 8 5 1\n",
            "1 8 3 9 1\n",
            "3 2 5 8 2\n",
            "#3 7\n"
          ]
        }
      ]
    },
    {
      "cell_type": "code",
      "source": [
        "하씨 ㅜㅠㅠㅠㅠㅠㅠ나 푼거같아 아 이거 맞아 맞는거같아 pass 완료~~~~ 풀었다~~~ 지존간지야\n"
      ],
      "metadata": {
        "id": "rnHU3a2eXgNl"
      },
      "execution_count": null,
      "outputs": []
    },
    {
      "cell_type": "code",
      "source": [
        "부분집합의 합이랑 특별한 정렬만 풀면... 끝... 히히히히히히히히히히히히히"
      ],
      "metadata": {
        "id": "cU4SUCj7ZD0d"
      },
      "execution_count": null,
      "outputs": []
    },
    {
      "cell_type": "code",
      "source": [
        "답변해주신 코드"
      ],
      "metadata": {
        "id": "5VQnR78kabrc"
      },
      "execution_count": null,
      "outputs": []
    },
    {
      "cell_type": "code",
      "source": [
        "red = [[2, 2], [2, 3], [2, 4], [3, 2], [3, 3], [3, 4], [4, 2], [4, 3], [4, 4]]\n",
        "blue = [[3, 3], [3, 4], [3, 5], [3, 6], [4, 3], [4, 4], [4, 5], [4, 6], [5, 3], [5, 4], [5, 5], [5, 6], [6, 3], [6, 4], [6, 5], [6, 6]]"
      ],
      "metadata": {
        "id": "IK4f5uKCagRW"
      },
      "execution_count": 48,
      "outputs": []
    },
    {
      "cell_type": "code",
      "source": [
        "red_set = frozenset(tuple(x) for x in red)\n",
        "blue_set = frozenset(tuple(x) for x in blue)\n",
        "\n",
        "intersection_set = red_set & blue_set\n",
        "intersection_list = list(list(x) for x in intersection_set)"
      ],
      "metadata": {
        "id": "TgQilZyzadRp"
      },
      "execution_count": 49,
      "outputs": []
    },
    {
      "cell_type": "code",
      "source": [
        "print(red_set)\n",
        "print(blue_set)\n",
        "print(intersection_set)\n",
        "print(intersection_list)\n",
        "print(len(intersection_list))"
      ],
      "metadata": {
        "colab": {
          "base_uri": "https://localhost:8080/"
        },
        "id": "BC3nxr93ap9k",
        "outputId": "88d732fc-25ec-4369-fc6f-804f0d24dabc"
      },
      "execution_count": 51,
      "outputs": [
        {
          "output_type": "stream",
          "name": "stdout",
          "text": [
            "frozenset({(3, 2), (3, 3), (4, 4), (2, 3), (4, 3), (2, 2), (4, 2), (3, 4), (2, 4)})\n",
            "frozenset({(6, 4), (5, 4), (3, 3), (4, 6), (5, 5), (4, 5), (5, 6), (6, 6), (4, 4), (6, 3), (4, 3), (3, 6), (5, 3), (3, 4), (6, 5), (3, 5)})\n",
            "frozenset({(4, 4), (3, 4), (3, 3), (4, 3)})\n",
            "[[4, 4], [3, 4], [3, 3], [4, 3]]\n",
            "4\n"
          ]
        }
      ]
    },
    {
      "cell_type": "code",
      "source": [
        "튜플 ( ) 리스트 [ ]"
      ],
      "metadata": {
        "id": "NN7lerPAaxC6"
      },
      "execution_count": null,
      "outputs": []
    },
    {
      "cell_type": "code",
      "source": [
        "red_set = set(tuple(x) for x in red)\n",
        "blue_set = set(tuple(x) for x in blue)\n",
        "\n",
        "intersection_set = red_set & blue_set\n",
        "intersection_list = list(list(x) for x in intersection_set)"
      ],
      "metadata": {
        "id": "Tr7lepqBcbzh"
      },
      "execution_count": 52,
      "outputs": []
    },
    {
      "cell_type": "code",
      "source": [
        "print(red_set)\n",
        "print(blue_set)\n",
        "print(intersection_set)\n",
        "print(intersection_list)\n",
        "print(len(intersection_list))"
      ],
      "metadata": {
        "colab": {
          "base_uri": "https://localhost:8080/"
        },
        "id": "v211VnXRcf2f",
        "outputId": "e2c1aaf3-f41e-4da6-8ddc-80a5b584dc5d"
      },
      "execution_count": 53,
      "outputs": [
        {
          "output_type": "stream",
          "name": "stdout",
          "text": [
            "{(3, 2), (3, 3), (4, 4), (2, 3), (4, 3), (2, 2), (4, 2), (3, 4), (2, 4)}\n",
            "{(6, 4), (5, 4), (3, 3), (4, 6), (5, 5), (4, 5), (5, 6), (6, 6), (4, 4), (6, 3), (4, 3), (3, 6), (5, 3), (3, 4), (6, 5), (3, 5)}\n",
            "{(4, 4), (3, 4), (3, 3), (4, 3)}\n",
            "[[4, 4], [3, 4], [3, 3], [4, 3]]\n",
            "4\n"
          ]
        }
      ]
    },
    {
      "cell_type": "code",
      "source": [
        ""
      ],
      "metadata": {
        "id": "_GwAqe0MchK3"
      },
      "execution_count": null,
      "outputs": []
    }
  ]
}