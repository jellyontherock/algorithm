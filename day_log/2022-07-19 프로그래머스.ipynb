문제 1
arr	answer
[1,1,3,3,0,1,1]	[1,3,0,1]
[4,4,4,3,3]	[4,3]


def solution(arr):
    for i in range(len(arr)-1,0,-1):
        if arr[i] == arr[i-1]:
            del arr[i-1]
    answer = arr
    return answer

# 나 멋쟁이


